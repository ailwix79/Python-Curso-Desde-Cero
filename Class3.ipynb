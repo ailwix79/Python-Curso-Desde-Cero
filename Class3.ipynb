{
 "cells": [
  {
   "cell_type": "markdown",
   "metadata": {},
   "source": [
    "# Data Types and Data Structures"
   ]
  },
  {
   "cell_type": "markdown",
   "metadata": {},
   "source": [
    "## Numeric Types"
   ]
  },
  {
   "cell_type": "code",
   "execution_count": 1,
   "metadata": {},
   "outputs": [
    {
     "name": "stdout",
     "output_type": "stream",
     "text": [
      "<class 'int'>\n",
      "<class 'float'>\n",
      "value: -20.1 of type: <class 'float'>\n",
      "value: (-8+2j) of type: <class 'complex'>\n"
     ]
    }
   ],
   "source": [
    "a=-10\n",
    "print(type(a))\n",
    "b=-10.10\n",
    "print(type(b))\n",
    "c=a+b\n",
    "print(\"value: {} of type: {}\".format(c,type(c)))\n",
    "d=complex(2,2)\n",
    "e=d+a\n",
    "print(\"value: {} of type: {}\".format(e,type(e)))"
   ]
  },
  {
   "cell_type": "markdown",
   "metadata": {},
   "source": [
    "## Boolean Types"
   ]
  },
  {
   "cell_type": "code",
   "execution_count": 2,
   "metadata": {},
   "outputs": [
    {
     "name": "stdout",
     "output_type": "stream",
     "text": [
      "a==b False\n",
      "a>=b False\n",
      "a<=b True\n",
      "a!=b True\n"
     ]
    }
   ],
   "source": [
    "a=10\n",
    "b=20\n",
    "print(\"a==b\",a==b)\n",
    "print(\"a>=b\",a>=b)\n",
    "print(\"a<=b\",a<=b)\n",
    "print(\"a!=b\",a!=b)"
   ]
  },
  {
   "cell_type": "code",
   "execution_count": 3,
   "metadata": {},
   "outputs": [
    {
     "name": "stdout",
     "output_type": "stream",
     "text": [
      "d is in list? True\n",
      "e is in list? False\n"
     ]
    }
   ],
   "source": [
    "c=[1,2,3,4,5,6,7,8,9,10]\n",
    "d=7\n",
    "e=17\n",
    "print(\"d is in list?\",d in c)\n",
    "print(\"e is in list?\",e in c)"
   ]
  },
  {
   "cell_type": "code",
   "execution_count": 4,
   "metadata": {},
   "outputs": [
    {
     "name": "stdout",
     "output_type": "stream",
     "text": [
      "i 0 named A fulfil conditions: False\n",
      "i 1 named B fulfil conditions: False\n",
      "i 2 named C fulfil conditions: False\n",
      "i 3 named D fulfil conditions: True\n",
      "i 4 named E fulfil conditions: False\n",
      "i 5 named F fulfil conditions: False\n",
      "i 6 named H fulfil conditions: False\n",
      "i 7 named I fulfil conditions: False\n",
      "i 8 named J fulfil conditions: True\n",
      "i 9 named K fulfil conditions: True\n"
     ]
    }
   ],
   "source": [
    "name = [\"A\",\"B\",\"C\",\"D\",\"E\",\"F\",\"H\",\"I\",\"J\",\"K\"]\n",
    "age = [10,15,20,25,30,35,40,17,23,38]\n",
    "height = [151,162,143,178,180,192,156,176,165,182]\n",
    "relocation = [\"Y\",\"Y\",\"Y\",\"Y\",\"Y\",\"Y\",\"N\",\"N\",\"N\",\"N\"]\n",
    "connected = [False,False,False,False,False,False,False,False,True,True]\n",
    "for i in range(0,10,1):\n",
    "    condition=age[i]>22 \\\n",
    "              and height[i]> 150 \\\n",
    "              and height[i]<180  \\\n",
    "              and relocation[i]==\"Y\"  \\\n",
    "              or connected[i]==True \n",
    "    print(\"i {} named {} fulfil conditions: {}\".format(i, name[i], condition))"
   ]
  },
  {
   "cell_type": "markdown",
   "metadata": {},
   "source": [
    "## Strings"
   ]
  },
  {
   "cell_type": "markdown",
   "metadata": {},
   "source": [
    "#### We can index them"
   ]
  },
  {
   "cell_type": "code",
   "execution_count": 5,
   "metadata": {},
   "outputs": [
    {
     "name": "stdout",
     "output_type": "stream",
     "text": [
      "Lenght of string:  39\n",
      "First character:  T\n",
      "Last character:  e\n",
      "But also this:  e\n"
     ]
    }
   ],
   "source": [
    "a=\"This is an example of a String variable\"\n",
    "print(\"Lenght of string: \",len(a))\n",
    "print(\"First character: \",a[0])\n",
    "print(\"Last character: \",a[38])\n",
    "print(\"But also this: \",a[-1])"
   ]
  },
  {
   "cell_type": "markdown",
   "metadata": {},
   "source": [
    "#### We can iterate them"
   ]
  },
  {
   "cell_type": "code",
   "execution_count": 6,
   "metadata": {},
   "outputs": [
    {
     "name": "stdout",
     "output_type": "stream",
     "text": [
      "S\n",
      "h\n",
      "o\n",
      "r\n",
      "t\n",
      " \n",
      "S\n",
      "t\n",
      "r\n",
      "i\n",
      "n\n",
      "g\n"
     ]
    }
   ],
   "source": [
    "a=\"Short String\"\n",
    "for i in range(0,len(a),1):\n",
    "    print(a[i])"
   ]
  },
  {
   "cell_type": "code",
   "execution_count": 7,
   "metadata": {},
   "outputs": [
    {
     "name": "stdout",
     "output_type": "stream",
     "text": [
      "S\n",
      "h\n",
      "o\n",
      "r\n",
      "t\n",
      " \n",
      "S\n",
      "t\n",
      "r\n",
      "i\n",
      "n\n",
      "g\n"
     ]
    }
   ],
   "source": [
    "a=\"Short String\"\n",
    "for char in a:\n",
    "    print(char)"
   ]
  },
  {
   "cell_type": "markdown",
   "metadata": {},
   "source": [
    "#### We can slice them"
   ]
  },
  {
   "cell_type": "code",
   "execution_count": 8,
   "metadata": {},
   "outputs": [
    {
     "name": "stdout",
     "output_type": "stream",
     "text": [
      "01/01/2019 18:45:00\n",
      "Reboot of main controller\n",
      "Heavy\n",
      "Shutdown\n"
     ]
    }
   ],
   "source": [
    "a=\"01/01/2019 18:45:00 MSG: Reboot of main controller SEVERITY: Heavy ACTION: Shutdown\"\n",
    "timestamp=a[:19]\n",
    "msg=a[25:50]\n",
    "severity=a[61:66]\n",
    "action=a[75:]\n",
    "print(timestamp)\n",
    "print(msg)\n",
    "print(severity)\n",
    "print(action)"
   ]
  },
  {
   "cell_type": "markdown",
   "metadata": {},
   "source": [
    "#### But they are not mutable"
   ]
  },
  {
   "cell_type": "code",
   "execution_count": 9,
   "metadata": {},
   "outputs": [
    {
     "ename": "TypeError",
     "evalue": "'str' object does not support item assignment",
     "output_type": "error",
     "traceback": [
      "\u001b[1;31m---------------------------------------------------------------------------\u001b[0m",
      "\u001b[1;31mTypeError\u001b[0m                                 Traceback (most recent call last)",
      "\u001b[1;32m<ipython-input-9-75fa0cb1f1c0>\u001b[0m in \u001b[0;36m<module>\u001b[1;34m\u001b[0m\n\u001b[0;32m      1\u001b[0m \u001b[0ma\u001b[0m\u001b[1;33m=\u001b[0m\u001b[1;34m\"Short String\"\u001b[0m\u001b[1;33m\u001b[0m\u001b[1;33m\u001b[0m\u001b[0m\n\u001b[1;32m----> 2\u001b[1;33m \u001b[0ma\u001b[0m\u001b[1;33m[\u001b[0m\u001b[1;36m7\u001b[0m\u001b[1;33m]\u001b[0m\u001b[1;33m=\u001b[0m\u001b[1;34m\"T\"\u001b[0m\u001b[1;33m\u001b[0m\u001b[1;33m\u001b[0m\u001b[0m\n\u001b[0m\u001b[0;32m      3\u001b[0m \u001b[0mprint\u001b[0m\u001b[1;33m(\u001b[0m\u001b[0ma\u001b[0m\u001b[1;33m)\u001b[0m\u001b[1;33m\u001b[0m\u001b[1;33m\u001b[0m\u001b[0m\n",
      "\u001b[1;31mTypeError\u001b[0m: 'str' object does not support item assignment"
     ]
    }
   ],
   "source": [
    "a=\"Short String\"\n",
    "a[7]=\"T\"\n",
    "print(a)"
   ]
  },
  {
   "cell_type": "markdown",
   "metadata": {},
   "source": [
    "#### We use addition operator"
   ]
  },
  {
   "cell_type": "code",
   "execution_count": 11,
   "metadata": {},
   "outputs": [
    {
     "name": "stdout",
     "output_type": "stream",
     "text": [
      "This is the begining of the sentence and this is the end of the sentence\n"
     ]
    }
   ],
   "source": [
    "a=\"This is the begining of the sentence\"\n",
    "b=\"and this is the end of the sentence\"\n",
    "print(a+\" \"+b)"
   ]
  },
  {
   "cell_type": "markdown",
   "metadata": {},
   "source": [
    "#### We can compare them"
   ]
  },
  {
   "cell_type": "code",
   "execution_count": 12,
   "metadata": {},
   "outputs": [
    {
     "name": "stdout",
     "output_type": "stream",
     "text": [
      "watermelon larger than waterloo: True\n",
      "watermelon smaller than waterworld: True\n"
     ]
    }
   ],
   "source": [
    "a=\"watermelon\"\n",
    "b=\"waterloo\"\n",
    "c=\"waterworld\"\n",
    "print(\"watermelon larger than waterloo:\",a>b)\n",
    "print(\"watermelon smaller than waterworld:\",a<c)"
   ]
  },
  {
   "cell_type": "markdown",
   "metadata": {},
   "source": [
    "#### We can search inside the strings"
   ]
  },
  {
   "cell_type": "code",
   "execution_count": 13,
   "metadata": {},
   "outputs": [
    {
     "name": "stdout",
     "output_type": "stream",
     "text": [
      "MSG: Reboot of main controller \n"
     ]
    }
   ],
   "source": [
    "log=\"01/01/2019 18:45:00 MSG: Reboot of main controller SEVERITY: Heavy ACTION: Shutdown\"\n",
    "start=log.find(\"MSG\")\n",
    "end=log.find(\"SEVERITY\")\n",
    "print(log[start:end])\n"
   ]
  },
  {
   "cell_type": "markdown",
   "metadata": {},
   "source": [
    "#### Change the case"
   ]
  },
  {
   "cell_type": "code",
   "execution_count": 14,
   "metadata": {},
   "outputs": [
    {
     "name": "stdout",
     "output_type": "stream",
     "text": [
      "01/01/2019 18:45:00 MSG: REBOOT OF MAIN CONTROLLER SEVERITY: HEAVY ACTION: SHUTDOWN\n",
      "01/01/2019 18:45:00 msg: reboot of main controller severity: heavy action: shutdown\n"
     ]
    }
   ],
   "source": [
    "print(log.upper())\n",
    "print(log.lower())"
   ]
  },
  {
   "cell_type": "markdown",
   "metadata": {},
   "source": [
    "#### Different checks"
   ]
  },
  {
   "cell_type": "code",
   "execution_count": 15,
   "metadata": {},
   "outputs": [
    {
     "name": "stdout",
     "output_type": "stream",
     "text": [
      "MSG\n",
      "Upper:  True\n",
      "Is alphanumeric:  True\n",
      "Is numeric:  False\n",
      "Is alphabetic:  True\n",
      "Is space:  False\n"
     ]
    }
   ],
   "source": [
    "key=log[20:23]\n",
    "print(key)\n",
    "print(\"Upper: \",key.isupper())\n",
    "print(\"Is alphanumeric: \",key.isalnum())\n",
    "print(\"Is numeric: \",key.isdigit())\n",
    "print(\"Is alphabetic: \",key.isalpha())\n",
    "print(\"Is space: \",key.isspace())"
   ]
  },
  {
   "cell_type": "markdown",
   "metadata": {},
   "source": [
    "#### Spliting"
   ]
  },
  {
   "cell_type": "code",
   "execution_count": 16,
   "metadata": {},
   "outputs": [
    {
     "name": "stdout",
     "output_type": "stream",
     "text": [
      "['Agueda', '25', 'Madrid', 'Student', 'Single', 'A']\n",
      "Agueda 25 years old lives in Madrid as Student with driving licence A\n"
     ]
    }
   ],
   "source": [
    "line=\"Agueda|25|Madrid|Student|Single|A\"\n",
    "elements=line.split(\"|\")\n",
    "print(elements)\n",
    "name=elements[0]\n",
    "age=elements[1]\n",
    "city=elements[2]\n",
    "job=elements[3]\n",
    "martial=elements[4]\n",
    "driving=elements[5]\n",
    "print(\"{0} {1} years old lives in {2} as {3} with driving licence {4}\".format(name,age,city,job,driving))"
   ]
  },
  {
   "cell_type": "markdown",
   "metadata": {},
   "source": [
    "#### Joining"
   ]
  },
  {
   "cell_type": "code",
   "execution_count": 17,
   "metadata": {},
   "outputs": [
    {
     "name": "stdout",
     "output_type": "stream",
     "text": [
      "<class 'list'>\n",
      "Madrid,Berlin,London,Paris,Rome\n",
      "Madrid - Berlin - London - Paris - Rome\n",
      "Madrid * Berlin * London * Paris * Rome\n"
     ]
    }
   ],
   "source": [
    "list1=[\"Madrid\",\"Berlin\",\"London\",\"Paris\",\"Rome\"]\n",
    "print(type(list1))\n",
    "print(\",\".join(list1))\n",
    "print(\" - \".join(list1))\n",
    "print(\" * \".join(list1))"
   ]
  },
  {
   "cell_type": "markdown",
   "metadata": {},
   "source": [
    "## Lists"
   ]
  },
  {
   "cell_type": "code",
   "execution_count": 18,
   "metadata": {},
   "outputs": [
    {
     "name": "stdout",
     "output_type": "stream",
     "text": [
      "<class 'list'>\n"
     ]
    }
   ],
   "source": [
    "number_list= [10,20,30,40,-50,-60,-80]\n",
    "print(type(number_list))"
   ]
  },
  {
   "cell_type": "code",
   "execution_count": 19,
   "metadata": {},
   "outputs": [
    {
     "name": "stdout",
     "output_type": "stream",
     "text": [
      "<class 'list'>\n"
     ]
    }
   ],
   "source": [
    "string_list= [\"Madrid\",\"Berlin\",\"London\",\"Paris\",\"Rome\"]\n",
    "print(type(string_list))"
   ]
  },
  {
   "cell_type": "code",
   "execution_count": 20,
   "metadata": {},
   "outputs": [
    {
     "name": "stdout",
     "output_type": "stream",
     "text": [
      "<class 'list'>\n"
     ]
    }
   ],
   "source": [
    "misc_list= [\"monday\", 35, True, complex(3,4),[\"Madrid\",\"Berlin\"]]\n",
    "print(type(misc_list))"
   ]
  },
  {
   "cell_type": "code",
   "execution_count": 21,
   "metadata": {},
   "outputs": [
    {
     "name": "stdout",
     "output_type": "stream",
     "text": [
      "<class 'list'>\n"
     ]
    }
   ],
   "source": [
    "empty=[]\n",
    "print(type(empty))"
   ]
  },
  {
   "cell_type": "markdown",
   "metadata": {},
   "source": [
    "### Linespace and Ranges can be used as lists"
   ]
  },
  {
   "cell_type": "code",
   "execution_count": 22,
   "metadata": {},
   "outputs": [
    {
     "name": "stdout",
     "output_type": "stream",
     "text": [
      "[ 1.    5.75 10.5  15.25 20.  ]\n",
      "<class 'numpy.ndarray'>\n",
      "<class 'list'>\n"
     ]
    }
   ],
   "source": [
    "import numpy as np\n",
    "sequence=np.linspace(1,20,5)\n",
    "print(sequence)\n",
    "print(type(sequence))\n",
    "list1=list(sequence)\n",
    "print(type(list1))"
   ]
  },
  {
   "cell_type": "code",
   "execution_count": 23,
   "metadata": {},
   "outputs": [
    {
     "name": "stdout",
     "output_type": "stream",
     "text": [
      "[1, 6, 11, 16]\n",
      "<class 'range'>\n",
      "<class 'list'>\n"
     ]
    }
   ],
   "source": [
    "sequence=range(1,20,5)\n",
    "print(list(sequence))\n",
    "print(type(sequence))\n",
    "list2=list(sequence)\n",
    "print(type(list2))"
   ]
  },
  {
   "cell_type": "markdown",
   "metadata": {},
   "source": [
    "### Accessing elements"
   ]
  },
  {
   "cell_type": "code",
   "execution_count": 24,
   "metadata": {},
   "outputs": [
    {
     "name": "stdout",
     "output_type": "stream",
     "text": [
      "zero\n",
      "one\n",
      "two\n",
      "three\n",
      "three\n",
      "two\n",
      "one\n",
      "zero\n"
     ]
    },
    {
     "ename": "IndexError",
     "evalue": "list index out of range",
     "output_type": "error",
     "traceback": [
      "\u001b[1;31m---------------------------------------------------------------------------\u001b[0m",
      "\u001b[1;31mIndexError\u001b[0m                                Traceback (most recent call last)",
      "\u001b[1;32m<ipython-input-24-7d33216fd1ab>\u001b[0m in \u001b[0;36m<module>\u001b[1;34m\u001b[0m\n\u001b[0;32m      8\u001b[0m \u001b[0mprint\u001b[0m\u001b[1;33m(\u001b[0m\u001b[0msequence\u001b[0m\u001b[1;33m[\u001b[0m\u001b[1;33m-\u001b[0m\u001b[1;36m3\u001b[0m\u001b[1;33m]\u001b[0m\u001b[1;33m)\u001b[0m\u001b[1;33m\u001b[0m\u001b[1;33m\u001b[0m\u001b[0m\n\u001b[0;32m      9\u001b[0m \u001b[0mprint\u001b[0m\u001b[1;33m(\u001b[0m\u001b[0msequence\u001b[0m\u001b[1;33m[\u001b[0m\u001b[1;33m-\u001b[0m\u001b[1;36m4\u001b[0m\u001b[1;33m]\u001b[0m\u001b[1;33m)\u001b[0m\u001b[1;33m\u001b[0m\u001b[1;33m\u001b[0m\u001b[0m\n\u001b[1;32m---> 10\u001b[1;33m \u001b[0mprint\u001b[0m\u001b[1;33m(\u001b[0m\u001b[0msequence\u001b[0m\u001b[1;33m[\u001b[0m\u001b[1;36m4\u001b[0m\u001b[1;33m]\u001b[0m\u001b[1;33m)\u001b[0m\u001b[1;33m\u001b[0m\u001b[1;33m\u001b[0m\u001b[0m\n\u001b[0m",
      "\u001b[1;31mIndexError\u001b[0m: list index out of range"
     ]
    }
   ],
   "source": [
    "sequence=[\"zero\",\"one\",\"two\",\"three\"]\n",
    "print(sequence[0])\n",
    "print(sequence[1])\n",
    "print(sequence[2])\n",
    "print(sequence[3])\n",
    "print(sequence[-1])\n",
    "print(sequence[-2])\n",
    "print(sequence[-3])\n",
    "print(sequence[-4])\n",
    "print(sequence[4])"
   ]
  },
  {
   "cell_type": "markdown",
   "metadata": {},
   "source": [
    "### Membership in lists"
   ]
  },
  {
   "cell_type": "code",
   "execution_count": 25,
   "metadata": {},
   "outputs": [
    {
     "name": "stdout",
     "output_type": "stream",
     "text": [
      "Pineapple in list:  False\n",
      "Watermelon in list:  True\n"
     ]
    }
   ],
   "source": [
    "sequence=[\"banana\",\"apple\",\"watermelon\",\"strawberry\"]\n",
    "a=\"pineapple\" in sequence\n",
    "print(\"Pineapple in list: \",a)\n",
    "b=\"watermelon\" in sequence\n",
    "print(\"Watermelon in list: \",b)"
   ]
  },
  {
   "cell_type": "markdown",
   "metadata": {},
   "source": [
    "### Looping using length"
   ]
  },
  {
   "cell_type": "code",
   "execution_count": 26,
   "metadata": {},
   "outputs": [
    {
     "name": "stdout",
     "output_type": "stream",
     "text": [
      "Length of sequence  4\n",
      "Element 0: zero\n",
      "Element 1: one\n",
      "Element 2: two\n",
      "Element 3: three\n"
     ]
    }
   ],
   "source": [
    "sequence=[\"zero\",\"one\",\"two\",\"three\"]\n",
    "print(\"Length of sequence \",len(sequence))\n",
    "for i in range(0,len(sequence)):\n",
    "    print(\"Element {}: {}\".format(i,sequence[i]))"
   ]
  },
  {
   "cell_type": "markdown",
   "metadata": {},
   "source": [
    "### Looping without indexing"
   ]
  },
  {
   "cell_type": "code",
   "execution_count": 27,
   "metadata": {},
   "outputs": [
    {
     "name": "stdout",
     "output_type": "stream",
     "text": [
      "Element:  zero\n",
      "Element:  one\n",
      "Element:  two\n",
      "Element:  three\n"
     ]
    }
   ],
   "source": [
    "sequence=[\"zero\",\"one\",\"two\",\"three\"]\n",
    "for number in sequence:\n",
    "    print(\"Element: \",number)"
   ]
  },
  {
   "cell_type": "markdown",
   "metadata": {},
   "source": [
    "### Apply operators"
   ]
  },
  {
   "cell_type": "code",
   "execution_count": 28,
   "metadata": {},
   "outputs": [
    {
     "data": {
      "text/plain": [
       "['banana', 'apple', 'watermelon', 'strawberry', 'zero', 'one', 'two', 'three']"
      ]
     },
     "execution_count": 28,
     "metadata": {},
     "output_type": "execute_result"
    }
   ],
   "source": [
    "sequence1=[\"banana\",\"apple\",\"watermelon\",\"strawberry\"]\n",
    "sequence2=[\"zero\",\"one\",\"two\",\"three\"]\n",
    "sequence1+sequence2"
   ]
  },
  {
   "cell_type": "code",
   "execution_count": 29,
   "metadata": {},
   "outputs": [
    {
     "data": {
      "text/plain": [
       "['zero', 'one', 'two', 'three', 'zero', 'one', 'two', 'three']"
      ]
     },
     "execution_count": 29,
     "metadata": {},
     "output_type": "execute_result"
    }
   ],
   "source": [
    "sequence2*2"
   ]
  },
  {
   "cell_type": "markdown",
   "metadata": {},
   "source": [
    "### Slice lists"
   ]
  },
  {
   "cell_type": "code",
   "execution_count": 30,
   "metadata": {},
   "outputs": [
    {
     "name": "stdout",
     "output_type": "stream",
     "text": [
      "['zero', 'one', 'two']\n",
      "['two', 'three', 'four']\n",
      "['four', 'five']\n",
      "['three', 'four', 'five']\n"
     ]
    }
   ],
   "source": [
    "sequence=[\"zero\",\"one\",\"two\",\"three\",\"four\",\"five\"]\n",
    "print(sequence[:3])\n",
    "print(sequence[2:5])\n",
    "print(sequence[4:])\n",
    "print(sequence[-3:])"
   ]
  },
  {
   "cell_type": "markdown",
   "metadata": {},
   "source": [
    "### Lists are mutable"
   ]
  },
  {
   "cell_type": "code",
   "execution_count": 31,
   "metadata": {},
   "outputs": [
    {
     "name": "stdout",
     "output_type": "stream",
     "text": [
      "Update one element:  ['banana', 'pineapple', 'watermelon', 'strawberry']\n",
      "Update one element:  ['banana', 'pineapple', 'watermelon', 'melon']\n",
      "Update two elements:  ['banana', 'pineapple', 'blackberry', 'blackcurrant']\n",
      "Insert new elements:  ['banana', 'apple', 'watermelon', 'melon', 'pineapple', 'blackberry', 'blackcurrant']\n",
      "Remove one element:  ['banana', 'watermelon', 'melon', 'pineapple', 'blackberry', 'blackcurrant']\n",
      "Remove several elements:  ['banana', 'pineapple', 'blackberry', 'blackcurrant']\n"
     ]
    }
   ],
   "source": [
    "sequence=[\"banana\",\"apple\",\"watermelon\",\"strawberry\"]\n",
    "sequence[1]=\"pineapple\"\n",
    "print(\"Update one element: \",sequence)\n",
    "sequence[-1]=\"melon\"\n",
    "print(\"Update one element: \",sequence)\n",
    "sequence[2:4]=[\"blackberry\", \"blackcurrant\"]\n",
    "print(\"Update two elements: \",sequence)\n",
    "sequence[1:1]=[\"apple\",\"watermelon\",\"melon\"]\n",
    "print(\"Insert new elements: \",sequence)\n",
    "del sequence[1]\n",
    "print(\"Remove one element: \",sequence)\n",
    "del sequence[1:3]\n",
    "print(\"Remove several elements: \",sequence)"
   ]
  },
  {
   "cell_type": "markdown",
   "metadata": {},
   "source": [
    "### Aliasing on list or any mutable object"
   ]
  },
  {
   "cell_type": "markdown",
   "metadata": {},
   "source": [
    "#### Those are diferent objects on different memory locations"
   ]
  },
  {
   "cell_type": "code",
   "execution_count": 32,
   "metadata": {
    "scrolled": false
   },
   "outputs": [
    {
     "name": "stdout",
     "output_type": "stream",
     "text": [
      "[1, 2, 3] memory position:  2161873555656\n",
      "[1, 2, 3] memory position:  2161873344776\n"
     ]
    }
   ],
   "source": [
    "list1=[1,2,3]\n",
    "list2=[1,2,3]\n",
    "print(list1,\"memory position: \",id(list1))\n",
    "print(list2,\"memory position: \",id(list2))"
   ]
  },
  {
   "cell_type": "code",
   "execution_count": 33,
   "metadata": {
    "scrolled": true
   },
   "outputs": [
    {
     "name": "stdout",
     "output_type": "stream",
     "text": [
      "[1, 2, 3] memory position:  2161873395528\n",
      "[1, 2, 3] memory position:  2161873395528\n"
     ]
    }
   ],
   "source": [
    "list1=[1,2,3]\n",
    "list2=list1\n",
    "print(list1,\"memory position: \",id(list1))\n",
    "print(list2,\"memory position: \",id(list2))"
   ]
  },
  {
   "cell_type": "markdown",
   "metadata": {},
   "source": [
    "#### What happens to one object happens to its alias"
   ]
  },
  {
   "cell_type": "code",
   "execution_count": 34,
   "metadata": {},
   "outputs": [
    {
     "name": "stdout",
     "output_type": "stream",
     "text": [
      "List1  [1, 3]\n",
      "List2  [1, 3]\n"
     ]
    }
   ],
   "source": [
    "list1=[1,2,3]\n",
    "list2=list1\n",
    "del list2[1]\n",
    "print(\"List1 \",list1)\n",
    "print(\"List2 \",list2)"
   ]
  },
  {
   "cell_type": "markdown",
   "metadata": {},
   "source": [
    "#### To avoid aliasing, use cloning"
   ]
  },
  {
   "cell_type": "code",
   "execution_count": 35,
   "metadata": {},
   "outputs": [
    {
     "name": "stdout",
     "output_type": "stream",
     "text": [
      "List1:  [1, 2, 3] memory position:  2161873463816\n",
      "List1:  [1, 2, 3] memory position:  2161873383560\n",
      "List1  [1, 2, 3]\n",
      "List2  [1, 3]\n"
     ]
    }
   ],
   "source": [
    "list1=[1,2,3]\n",
    "list2=list1[:]\n",
    "print(\"List1: \", list1,\"memory position: \",id(list1))\n",
    "print(\"List1: \", list2,\"memory position: \",id(list2))\n",
    "del list2[1]\n",
    "print(\"List1 \",list1)\n",
    "print(\"List2 \",list2)"
   ]
  },
  {
   "cell_type": "markdown",
   "metadata": {},
   "source": [
    "#### That also happens to unmutable objects but as they are unmutable there is no risk"
   ]
  },
  {
   "cell_type": "code",
   "execution_count": 36,
   "metadata": {},
   "outputs": [
    {
     "name": "stdout",
     "output_type": "stream",
     "text": [
      "Hola memory position:  2161873354568\n",
      "Hola memory position:  2161873354568\n"
     ]
    }
   ],
   "source": [
    "string1=\"Hola\"\n",
    "string2=string1\n",
    "print(string1,\"memory position: \",id(string1))\n",
    "print(string2,\"memory position: \",id(string2))"
   ]
  },
  {
   "cell_type": "markdown",
   "metadata": {},
   "source": [
    "### Arrays: Nested Lists"
   ]
  },
  {
   "cell_type": "code",
   "execution_count": 37,
   "metadata": {},
   "outputs": [
    {
     "name": "stdout",
     "output_type": "stream",
     "text": [
      "[[1, 2, 3], [4, 5, 6], [7, 8, 9]]\n"
     ]
    }
   ],
   "source": [
    "matrix = [[1, 2, 3], [4, 5, 6], [7, 8, 9]] \n",
    "print(matrix)"
   ]
  },
  {
   "cell_type": "code",
   "execution_count": 38,
   "metadata": {},
   "outputs": [
    {
     "name": "stdout",
     "output_type": "stream",
     "text": [
      "[4, 5, 6]\n"
     ]
    }
   ],
   "source": [
    "row=matrix[1]\n",
    "print(row)"
   ]
  },
  {
   "cell_type": "code",
   "execution_count": 39,
   "metadata": {},
   "outputs": [
    {
     "name": "stdout",
     "output_type": "stream",
     "text": [
      "5\n",
      "5\n"
     ]
    }
   ],
   "source": [
    "element=row[1]\n",
    "print(element)\n",
    "element2=matrix[1][1]\n",
    "print(element2)"
   ]
  },
  {
   "cell_type": "markdown",
   "metadata": {},
   "source": [
    "## Tuples"
   ]
  },
  {
   "cell_type": "code",
   "execution_count": 40,
   "metadata": {},
   "outputs": [
    {
     "name": "stdout",
     "output_type": "stream",
     "text": [
      "This is a tuple:  (1, 2, 3, 4)\n",
      "<class 'tuple'>\n",
      "This is also a tuple:  ('four', 5, 'six', 7)\n",
      "<class 'tuple'>\n"
     ]
    }
   ],
   "source": [
    "tuple1=1,2,3,4\n",
    "print(\"This is a tuple: \",tuple1)\n",
    "print(type(tuple1))\n",
    "tuple2=(\"four\",5,\"six\",7)\n",
    "print(\"This is also a tuple: \",tuple2)\n",
    "print(type(tuple2))"
   ]
  },
  {
   "cell_type": "code",
   "execution_count": 41,
   "metadata": {},
   "outputs": [
    {
     "name": "stdout",
     "output_type": "stream",
     "text": [
      "they can be indexed:  4\n",
      "they can be sliced:  (1, 2, 3)\n"
     ]
    }
   ],
   "source": [
    "print(\"they can be indexed: \",tuple1[3])\n",
    "print(\"they can be sliced: \",tuple1[:3])"
   ]
  },
  {
   "cell_type": "code",
   "execution_count": 42,
   "metadata": {},
   "outputs": [
    {
     "name": "stdout",
     "output_type": "stream",
     "text": [
      "But they cannot be modified\n"
     ]
    },
    {
     "ename": "TypeError",
     "evalue": "'tuple' object does not support item assignment",
     "output_type": "error",
     "traceback": [
      "\u001b[1;31m---------------------------------------------------------------------------\u001b[0m",
      "\u001b[1;31mTypeError\u001b[0m                                 Traceback (most recent call last)",
      "\u001b[1;32m<ipython-input-42-70f7382d45ec>\u001b[0m in \u001b[0;36m<module>\u001b[1;34m\u001b[0m\n\u001b[0;32m      1\u001b[0m \u001b[0mprint\u001b[0m\u001b[1;33m(\u001b[0m\u001b[1;34m\"But they cannot be modified\"\u001b[0m\u001b[1;33m)\u001b[0m\u001b[1;33m\u001b[0m\u001b[1;33m\u001b[0m\u001b[0m\n\u001b[1;32m----> 2\u001b[1;33m \u001b[0mtuple1\u001b[0m\u001b[1;33m[\u001b[0m\u001b[1;36m2\u001b[0m\u001b[1;33m]\u001b[0m\u001b[1;33m=\u001b[0m\u001b[1;36m22\u001b[0m\u001b[1;33m\u001b[0m\u001b[1;33m\u001b[0m\u001b[0m\n\u001b[0m",
      "\u001b[1;31mTypeError\u001b[0m: 'tuple' object does not support item assignment"
     ]
    }
   ],
   "source": [
    "print(\"But they cannot be modified\")\n",
    "tuple1[2]=22"
   ]
  },
  {
   "cell_type": "markdown",
   "metadata": {},
   "source": [
    "## Dictionaries"
   ]
  },
  {
   "cell_type": "markdown",
   "metadata": {},
   "source": [
    "#### creation"
   ]
  },
  {
   "cell_type": "code",
   "execution_count": 43,
   "metadata": {},
   "outputs": [
    {
     "name": "stdout",
     "output_type": "stream",
     "text": [
      "{'hola': 'bonjour', 'adios': 'aurevoir', 'hasta pronto': 'a bientot'}\n"
     ]
    }
   ],
   "source": [
    "dictionary={\"hola\":\"bonjour\",\"adios\":\"aurevoir\",\"hasta pronto\":\"a bientot\"}\n",
    "print(dictionary)"
   ]
  },
  {
   "cell_type": "code",
   "execution_count": 44,
   "metadata": {},
   "outputs": [
    {
     "name": "stdout",
     "output_type": "stream",
     "text": [
      "Hola in french:  bonjour\n",
      "Adios in french:  aurevoir\n",
      "Hasta pronto in french:  a bientot\n"
     ]
    }
   ],
   "source": [
    "print(\"Hola in french: \",dictionary[\"hola\"])\n",
    "print(\"Adios in french: \",dictionary[\"adios\"])\n",
    "print(\"Hasta pronto in french: \",dictionary[\"hasta pronto\"])"
   ]
  },
  {
   "cell_type": "markdown",
   "metadata": {},
   "source": [
    "#### creation element by element"
   ]
  },
  {
   "cell_type": "code",
   "execution_count": 45,
   "metadata": {},
   "outputs": [
    {
     "name": "stdout",
     "output_type": "stream",
     "text": [
      "{'patata': 'pomme', 'cinco': 5, 'naranja': 'orange', 'bolsa': ['bourse', 'sac']}\n"
     ]
    }
   ],
   "source": [
    "dictionary={}\n",
    "dictionary[\"patata\"]=\"pomme\"\n",
    "dictionary[\"cinco\"]=5\n",
    "dictionary[\"naranja\"]=\"orange\"\n",
    "dictionary[\"bolsa\"]=[\"bourse\",\"sac\"]\n",
    "print(dictionary)"
   ]
  },
  {
   "cell_type": "markdown",
   "metadata": {},
   "source": [
    "#### creation with dict()"
   ]
  },
  {
   "cell_type": "code",
   "execution_count": 46,
   "metadata": {},
   "outputs": [
    {
     "name": "stdout",
     "output_type": "stream",
     "text": [
      "{'patata': 'pome', 'cinco': 5, 'naranja': 'orange', 'bolsa': ['bourse', 'sac']}\n"
     ]
    }
   ],
   "source": [
    "dictionary=dict(patata=\"pome\",cinco=5,naranja=\"orange\",bolsa=[\"bourse\",\"sac\"])\n",
    "print(dictionary)"
   ]
  },
  {
   "cell_type": "markdown",
   "metadata": {},
   "source": [
    "#### creation from list of tuples"
   ]
  },
  {
   "cell_type": "code",
   "execution_count": 47,
   "metadata": {},
   "outputs": [
    {
     "name": "stdout",
     "output_type": "stream",
     "text": [
      "{'patata': 'pome', 'cinco': 5, 'naranja': 'orange', 'bolsa': ['bourse', 'sac']}\n"
     ]
    }
   ],
   "source": [
    "list_of_tuples=[(\"patata\",\"pome\"),(\"cinco\",5),(\"naranja\",\"orange\"),(\"bolsa\",[\"bourse\",\"sac\"])]\n",
    "dictionary=dict(list_of_tuples)\n",
    "print(dictionary)"
   ]
  },
  {
   "cell_type": "markdown",
   "metadata": {},
   "source": [
    "#### creation from two lists"
   ]
  },
  {
   "cell_type": "code",
   "execution_count": 48,
   "metadata": {},
   "outputs": [
    {
     "name": "stdout",
     "output_type": "stream",
     "text": [
      "{'patata': 'pomme', 'cinco': 5, 'naranja': 'orange', 'bolsa': ['bourse', 'sac']}\n"
     ]
    }
   ],
   "source": [
    "keys=[\"patata\",\"cinco\",\"naranja\",\"bolsa\"]\n",
    "values=[\"pomme\",5,\"orange\",[\"bourse\",\"sac\"]]\n",
    "dictionary=dict(zip(keys,values))\n",
    "print(dictionary)"
   ]
  },
  {
   "cell_type": "markdown",
   "metadata": {},
   "source": [
    "### Easy to update"
   ]
  },
  {
   "cell_type": "code",
   "execution_count": 49,
   "metadata": {},
   "outputs": [
    {
     "name": "stdout",
     "output_type": "stream",
     "text": [
      "{'Teo': 'admin', 'Liam': 'viewer', 'Dora': 'root', 'Noa': 'viewer', 'Cris': 'Viewer'}\n",
      "{'Teo': 'admin', 'Liam': 'viewer', 'Dora': 'root', 'Noa': 'admin', 'Cris': 'Viewer'}\n"
     ]
    }
   ],
   "source": [
    "dictionary={\"Teo\":\"admin\",\"Liam\":\"viewer\",\"Dora\":\"root\",\"Noa\":\"viewer\",\"Cris\":\"Viewer\"}\n",
    "print(dictionary)\n",
    "dictionary[\"Noa\"]=\"admin\"\n",
    "print(dictionary)"
   ]
  },
  {
   "cell_type": "code",
   "execution_count": 50,
   "metadata": {},
   "outputs": [
    {
     "name": "stdout",
     "output_type": "stream",
     "text": [
      "{'Teo': 'admin', 'Liam': 'viewer', 'Dora': 'root', 'Noa': 'admin', 'Cris': 'Viewer'}\n",
      "Length:  5\n",
      "{'Liam': 'viewer', 'Dora': 'root', 'Noa': 'admin', 'Cris': 'Viewer'}\n",
      "Length:  4\n"
     ]
    }
   ],
   "source": [
    "print(dictionary)\n",
    "print(\"Length: \",len(dictionary))\n",
    "del dictionary[\"Teo\"]\n",
    "print(dictionary)\n",
    "print(\"Length: \",len(dictionary))"
   ]
  },
  {
   "cell_type": "markdown",
   "metadata": {},
   "source": [
    "### Dictionary methods"
   ]
  },
  {
   "cell_type": "code",
   "execution_count": 51,
   "metadata": {},
   "outputs": [
    {
     "name": "stdout",
     "output_type": "stream",
     "text": [
      "Vehicles manufacturers:  dict_keys(['yamaha', 'suzuki', 'ducati', 'kawasaki'])\n"
     ]
    }
   ],
   "source": [
    "dictionary={\"yamaha\":5,\"suzuki\":8,\"ducati\":2,\"kawasaki\":7}\n",
    "print(\"Vehicles manufacturers: \",dictionary.keys())"
   ]
  },
  {
   "cell_type": "code",
   "execution_count": 52,
   "metadata": {},
   "outputs": [
    {
     "name": "stdout",
     "output_type": "stream",
     "text": [
      "Number of vehicles:  dict_values([5, 8, 2, 7])\n"
     ]
    }
   ],
   "source": [
    "print(\"Number of vehicles: \",dictionary.values())"
   ]
  },
  {
   "cell_type": "code",
   "execution_count": 53,
   "metadata": {},
   "outputs": [
    {
     "name": "stdout",
     "output_type": "stream",
     "text": [
      "Full parking:  dict_items([('yamaha', 5), ('suzuki', 8), ('ducati', 2), ('kawasaki', 7)])\n"
     ]
    }
   ],
   "source": [
    "print(\"Full parking: \",dictionary.items())"
   ]
  },
  {
   "cell_type": "code",
   "execution_count": 54,
   "metadata": {},
   "outputs": [
    {
     "name": "stdout",
     "output_type": "stream",
     "text": [
      "Vehicle:  yamaha  Amount:  5\n",
      "Vehicle:  suzuki  Amount:  8\n",
      "Vehicle:  ducati  Amount:  2\n",
      "Vehicle:  kawasaki  Amount:  7\n"
     ]
    }
   ],
   "source": [
    "for i in dictionary.items():\n",
    "    print(\"Vehicle: \",i[0],\" Amount: \",i[1])"
   ]
  },
  {
   "cell_type": "markdown",
   "metadata": {},
   "source": [
    "### Dictionary aliases"
   ]
  },
  {
   "cell_type": "code",
   "execution_count": 55,
   "metadata": {},
   "outputs": [
    {
     "name": "stdout",
     "output_type": "stream",
     "text": [
      "dict_items([('yamaha', 5), ('suzuki', 8), ('ducati', 2), ('kawasaki', 7)])\n",
      "dict_items([('yamaha', 5), ('suzuki', 8), ('ducati', 2), ('kawasaki', 7)])\n",
      "dict_items([('yamaha', 5), ('ducati', 2), ('kawasaki', 7)])\n",
      "dict_items([('yamaha', 5), ('ducati', 2), ('kawasaki', 7)])\n"
     ]
    }
   ],
   "source": [
    "parking={\"yamaha\":5,\"suzuki\":8,\"ducati\":2,\"kawasaki\":7}\n",
    "parking2=parking\n",
    "print(parking.items())\n",
    "print(parking2.items())\n",
    "del parking2[\"suzuki\"]\n",
    "print(parking.items())\n",
    "print(parking2.items())"
   ]
  },
  {
   "cell_type": "code",
   "execution_count": 56,
   "metadata": {},
   "outputs": [
    {
     "name": "stdout",
     "output_type": "stream",
     "text": [
      "dict_items([('yamaha', 5), ('suzuki', 8), ('ducati', 2), ('kawasaki', 7)])\n",
      "dict_items([('yamaha', 5), ('suzuki', 8), ('ducati', 2), ('kawasaki', 7)])\n",
      "dict_items([('yamaha', 5), ('suzuki', 8), ('ducati', 2), ('kawasaki', 7)])\n",
      "dict_items([('yamaha', 5), ('ducati', 2), ('kawasaki', 7)])\n"
     ]
    }
   ],
   "source": [
    "parking={\"yamaha\":5,\"suzuki\":8,\"ducati\":2,\"kawasaki\":7}\n",
    "parking3=parking.copy()\n",
    "print(parking.items())\n",
    "print(parking3.items())\n",
    "del parking3[\"suzuki\"]\n",
    "print(parking.items())\n",
    "print(parking3.items())"
   ]
  },
  {
   "cell_type": "markdown",
   "metadata": {},
   "source": [
    "### Sparse matrices"
   ]
  },
  {
   "cell_type": "code",
   "execution_count": 57,
   "metadata": {},
   "outputs": [
    {
     "name": "stdout",
     "output_type": "stream",
     "text": [
      "[5, 0, 0, 0, 0, 0]\n",
      "[0, 0, 0, 0, 0, 0]\n",
      "[0, 1, 0, 0, 0, 0]\n",
      "[0, 0, 4, 0, 0, 0]\n",
      "[0, 0, 0, 0, 0, 0]\n",
      "[0, 0, 0, 0, 7, 0]\n"
     ]
    }
   ],
   "source": [
    "sparse_list=[[5,0,0,0,0,0],[0,0,0,0,0,0],[0,1,0,0,0,0], \\\n",
    "             [0,0,4,0,0,0],[0,0,0,0,0,0],[0,0,0,0,7,0]]\n",
    "for i in sparse_list:\n",
    "    print(i)"
   ]
  },
  {
   "cell_type": "code",
   "execution_count": 58,
   "metadata": {},
   "outputs": [],
   "source": [
    "sparse_dict={(0,0):5,(2,1):1,(3,2):4,(5,4):7}"
   ]
  },
  {
   "cell_type": "code",
   "execution_count": 59,
   "metadata": {},
   "outputs": [
    {
     "name": "stdout",
     "output_type": "stream",
     "text": [
      "Size sparse_list:  112\n",
      "Size sparse_dict:  240\n"
     ]
    }
   ],
   "source": [
    "from sys import getsizeof\n",
    "print(\"Size sparse_list: \",getsizeof(sparse_list))\n",
    "print(\"Size sparse_dict: \",getsizeof(sparse_dict))"
   ]
  },
  {
   "cell_type": "markdown",
   "metadata": {},
   "source": [
    "### Nested Dictionaries"
   ]
  },
  {
   "cell_type": "code",
   "execution_count": 60,
   "metadata": {},
   "outputs": [],
   "source": [
    "registry={\"Name\":\"Bob\",\n",
    "          \"Job\":[\"Developer\",\"Scrum master\"],\n",
    "          \"Web\":\"linkedin.com/bob\",\n",
    "          \"Personal\":{\n",
    "              \"Nationality\":\"British\",\n",
    "              \"Age\":36,\n",
    "              \"Status\":\"Divorced\",\n",
    "              \"Address\":{\n",
    "                  \"Street\":\"Fake Street\",\n",
    "                  \"Number\":123\n",
    "              }\n",
    "          }}"
   ]
  },
  {
   "cell_type": "code",
   "execution_count": 61,
   "metadata": {
    "scrolled": true
   },
   "outputs": [
    {
     "name": "stdout",
     "output_type": "stream",
     "text": [
      "Bob\n",
      "British\n",
      "Fake Street\n"
     ]
    }
   ],
   "source": [
    "print(registry[\"Name\"])\n",
    "print(registry[\"Personal\"][\"Nationality\"])\n",
    "print(registry[\"Personal\"][\"Address\"][\"Street\"])"
   ]
  }
 ],
 "metadata": {
  "kernelspec": {
   "display_name": "Python 3",
   "language": "python",
   "name": "python3"
  },
  "language_info": {
   "codemirror_mode": {
    "name": "ipython",
    "version": 3
   },
   "file_extension": ".py",
   "mimetype": "text/x-python",
   "name": "python",
   "nbconvert_exporter": "python",
   "pygments_lexer": "ipython3",
   "version": "3.8.3"
  }
 },
 "nbformat": 4,
 "nbformat_minor": 2
}
