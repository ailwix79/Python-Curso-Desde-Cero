{
 "cells": [
  {
   "cell_type": "markdown",
   "metadata": {},
   "source": [
    "# TEMA 8: Data Encoding     "
   ]
  },
  {
   "cell_type": "markdown",
   "metadata": {},
   "source": [
    "## CSV Files"
   ]
  },
  {
   "cell_type": "markdown",
   "metadata": {},
   "source": [
    "### Option 1: Using regular python reading functions"
   ]
  },
  {
   "cell_type": "markdown",
   "metadata": {},
   "source": [
    "We need to split the elements by ourselves"
   ]
  },
  {
   "cell_type": "code",
   "execution_count": 1,
   "metadata": {},
   "outputs": [
    {
     "name": "stdout",
     "output_type": "stream",
     "text": [
      "HEADER: \n",
      "['Country', 'Capital', 'Area(km.sq)', 'Population(mio)', 'Pop. Growth', 'Currency', 'Inflation', 'Official name of Country\\n']\n",
      "ELEMENTS:\n",
      "['Afghanistan', 'Kabul', '652 090 ', '29.12', '2.58%', 'Afghani', 'Not known', 'Islamic State of Afghanistan\\n']\n"
     ]
    }
   ],
   "source": [
    "with open ('country.csv','r',encoding='ISO-8859-1') as file:\n",
    "    header=file.readline().split(',')\n",
    "    print(\"HEADER: \")\n",
    "    print(header)\n",
    "    row=file.readline().split(',')\n",
    "    print(\"ELEMENTS:\")\n",
    "    print(row)"
   ]
  },
  {
   "cell_type": "markdown",
   "metadata": {},
   "source": [
    "### Alternativa 1\n",
    "\n",
    "* Using file.read()\n",
    "* Split by lines\n",
    "* Loop over the lines\n",
    "* Split by comas\n",
    "\n",
    "### Alternativa 2\n",
    "\n",
    "* Using file.realdines()\n",
    "* Loop over the lines\n",
    "* Split by comas\n",
    "\n",
    "### Alternativa 3\n",
    "\n",
    "* Read line using file.readline()\n",
    "* Loop while line has content\n",
    "* Split line by comas"
   ]
  },
  {
   "cell_type": "code",
   "execution_count": 20,
   "metadata": {},
   "outputs": [],
   "source": [
    "with open ('country.csv','r',encoding='ISO-8859-1') as file:\n",
    "    line=file.readline()\n",
    "    while len(line)!=0:\n",
    "        row=line.split(\",\")\n",
    "        # Do something with ROW\n",
    "        line=file.readline()"
   ]
  },
  {
   "cell_type": "markdown",
   "metadata": {},
   "source": [
    "### Option 2: Using CSV library"
   ]
  },
  {
   "cell_type": "markdown",
   "metadata": {},
   "source": [
    "#### This library automatically do the split for us returning lists"
   ]
  },
  {
   "cell_type": "code",
   "execution_count": 21,
   "metadata": {},
   "outputs": [
    {
     "name": "stdout",
     "output_type": "stream",
     "text": [
      "HEADER: \n",
      "['Country', 'Capital', 'Area(km.sq)', 'Population(mio)', 'Pop. Growth', 'Currency', 'Inflation', 'Official name of Country']\n",
      "ELEMENTS:\n",
      "['Afghanistan', 'Kabul', '652 090 ', '29.12', '2.58%', 'Afghani', 'Not known', 'Islamic State of Afghanistan']\n"
     ]
    }
   ],
   "source": [
    "import csv\n",
    "with open ('country.csv','r',encoding='ISO-8859-1') as csvfile:\n",
    "    file_reader=csv.reader(csvfile, delimiter=',')\n",
    "    header=next(file_reader)\n",
    "    print(\"HEADER: \")\n",
    "    print(header)\n",
    "    for row in file_reader:\n",
    "        print(\"ELEMENTS:\")\n",
    "        print(row)\n",
    "        break"
   ]
  },
  {
   "cell_type": "markdown",
   "metadata": {},
   "source": [
    "#### This library can also read lines as dictionaries"
   ]
  },
  {
   "cell_type": "code",
   "execution_count": 22,
   "metadata": {},
   "outputs": [
    {
     "name": "stdout",
     "output_type": "stream",
     "text": [
      "Country: Afghanistan Capital: Kabul and Population: 29.12\n"
     ]
    }
   ],
   "source": [
    "import csv\n",
    "with open ('country.csv','r',encoding='ISO-8859-1') as csvfile:\n",
    "    file_reader=csv.DictReader(csvfile)\n",
    "    for row in file_reader:\n",
    "        print(\"Country: \"+row[\"Country\"]+\n",
    "              \" Capital: \"+row[\"Capital\"]+\n",
    "              \" and Population: \"+row[\"Population(mio)\"])\n",
    "        break  "
   ]
  },
  {
   "cell_type": "markdown",
   "metadata": {},
   "source": [
    "### Writing file with CSV package:"
   ]
  },
  {
   "cell_type": "markdown",
   "metadata": {},
   "source": [
    "#### Writing using lists"
   ]
  },
  {
   "cell_type": "code",
   "execution_count": 23,
   "metadata": {},
   "outputs": [],
   "source": [
    "import csv\n",
    "with open('coches.txt', mode='w',newline='') as fcoches:\n",
    "    header=['modelo','matricula','color','año']\n",
    "    coches_writer=csv.writer(fcoches, delimiter='^')\n",
    "    coches_writer.writerow(header)\n",
    "    coches_writer.writerow(['Seat Ibiza','8349PFG','Rojo', '2016'])\n",
    "    coches_writer.writerow(['BMW X3','9449OTF','Azul', '2018'])\n",
    "    coches_writer.writerow(['Ford Focus','9339FJJ','Negro', '2017'])"
   ]
  },
  {
   "cell_type": "markdown",
   "metadata": {},
   "source": [
    "#### Writing using dictionaries"
   ]
  },
  {
   "cell_type": "code",
   "execution_count": 24,
   "metadata": {},
   "outputs": [],
   "source": [
    "import csv\n",
    "with open('coches2.txt', mode='w',newline='') as fcoches:\n",
    "    header=['modelo','matricula','color','año']\n",
    "    coches_writer=csv.DictWriter(fcoches,delimiter='^',fieldnames=header)\n",
    "    coches_writer.writeheader()\n",
    "    coches_writer.writerow({'modelo':'Opel Corsa','matricula':'8349TFG','color':'verde','año':'2012'})\n",
    "    coches_writer.writerow({'modelo':'Opel Vectra','matricula':'8472BSR','color':'rojo','año':'2010'})\n",
    "    coches_writer.writerow({'modelo':'BMW 320','matricula':'2398TYD','color':'morado','año':'2009'})"
   ]
  },
  {
   "cell_type": "markdown",
   "metadata": {},
   "source": [
    "### Writing file without CSV package??"
   ]
  },
  {
   "cell_type": "code",
   "execution_count": 26,
   "metadata": {},
   "outputs": [],
   "source": [
    "header=['modelo','matricula','color','año']\n",
    "with open('coches3.txt', mode='w',newline='') as fcoches:\n",
    "    fcoches.write(\"^\".join(header))\n",
    "    fcoches.write(\"\\n\")\n",
    "    fcoches.write(\"^\".join(['Seat Ibiza','8349PFG','Rojo', '2016']))\n",
    "    fcoches.write(\"\\n\")\n",
    "    fcoches.write(\"^\".join(['BMW X3','9449OTF','Azul', '2018']))\n",
    "    fcoches.write(\"\\n\")\n",
    "    fcoches.write(\"^\".join(['Ford Focus','9339FJJ','Negro', '2017']))"
   ]
  },
  {
   "cell_type": "markdown",
   "metadata": {},
   "source": [
    "## EXCEL FILES using PANDAS"
   ]
  },
  {
   "cell_type": "markdown",
   "metadata": {},
   "source": [
    "### Reading excel files"
   ]
  },
  {
   "cell_type": "code",
   "execution_count": 8,
   "metadata": {},
   "outputs": [
    {
     "data": {
      "text/html": [
       "<div>\n",
       "<style scoped>\n",
       "    .dataframe tbody tr th:only-of-type {\n",
       "        vertical-align: middle;\n",
       "    }\n",
       "\n",
       "    .dataframe tbody tr th {\n",
       "        vertical-align: top;\n",
       "    }\n",
       "\n",
       "    .dataframe thead th {\n",
       "        text-align: right;\n",
       "    }\n",
       "</style>\n",
       "<table border=\"1\" class=\"dataframe\">\n",
       "  <thead>\n",
       "    <tr style=\"text-align: right;\">\n",
       "      <th></th>\n",
       "      <th>state</th>\n",
       "      <th>state_abbreviation</th>\n",
       "      <th>county</th>\n",
       "      <th>fips</th>\n",
       "      <th>party</th>\n",
       "      <th>candidate</th>\n",
       "      <th>votes</th>\n",
       "      <th>fraction_votes</th>\n",
       "    </tr>\n",
       "  </thead>\n",
       "  <tbody>\n",
       "    <tr>\n",
       "      <th>0</th>\n",
       "      <td>Arkansas</td>\n",
       "      <td>AR</td>\n",
       "      <td>Johnson</td>\n",
       "      <td>5071</td>\n",
       "      <td>Republican</td>\n",
       "      <td>Ted Cruz</td>\n",
       "      <td>1004</td>\n",
       "      <td>0.298</td>\n",
       "    </tr>\n",
       "    <tr>\n",
       "      <th>1</th>\n",
       "      <td>Virginia</td>\n",
       "      <td>VA</td>\n",
       "      <td>Fluvanna</td>\n",
       "      <td>51065</td>\n",
       "      <td>Republican</td>\n",
       "      <td>Ben Carson</td>\n",
       "      <td>232</td>\n",
       "      <td>0.064</td>\n",
       "    </tr>\n",
       "    <tr>\n",
       "      <th>2</th>\n",
       "      <td>Wisconsin</td>\n",
       "      <td>WI</td>\n",
       "      <td>Oconto</td>\n",
       "      <td>55083</td>\n",
       "      <td>Democrat</td>\n",
       "      <td>Bernie Sanders</td>\n",
       "      <td>2577</td>\n",
       "      <td>0.513</td>\n",
       "    </tr>\n",
       "    <tr>\n",
       "      <th>3</th>\n",
       "      <td>Illinois</td>\n",
       "      <td>IL</td>\n",
       "      <td>Crawford</td>\n",
       "      <td>17033</td>\n",
       "      <td>Democrat</td>\n",
       "      <td>Hillary Clinton</td>\n",
       "      <td>609</td>\n",
       "      <td>0.501</td>\n",
       "    </tr>\n",
       "    <tr>\n",
       "      <th>4</th>\n",
       "      <td>North Carolina</td>\n",
       "      <td>NC</td>\n",
       "      <td>Gaston</td>\n",
       "      <td>37071</td>\n",
       "      <td>Republican</td>\n",
       "      <td>John Kasich</td>\n",
       "      <td>2125</td>\n",
       "      <td>0.084</td>\n",
       "    </tr>\n",
       "  </tbody>\n",
       "</table>\n",
       "</div>"
      ],
      "text/plain": [
       "            state state_abbreviation    county   fips       party  \\\n",
       "0        Arkansas                 AR   Johnson   5071  Republican   \n",
       "1        Virginia                 VA  Fluvanna  51065  Republican   \n",
       "2       Wisconsin                 WI    Oconto  55083    Democrat   \n",
       "3        Illinois                 IL  Crawford  17033    Democrat   \n",
       "4  North Carolina                 NC    Gaston  37071  Republican   \n",
       "\n",
       "         candidate  votes  fraction_votes  \n",
       "0         Ted Cruz   1004           0.298  \n",
       "1       Ben Carson    232           0.064  \n",
       "2   Bernie Sanders   2577           0.513  \n",
       "3  Hillary Clinton    609           0.501  \n",
       "4      John Kasich   2125           0.084  "
      ]
     },
     "execution_count": 8,
     "metadata": {},
     "output_type": "execute_result"
    }
   ],
   "source": [
    "import pandas as pd\n",
    "df=pd.read_excel(\"elections_results.xlsx\")\n",
    "df.head()"
   ]
  },
  {
   "cell_type": "markdown",
   "metadata": {},
   "source": [
    "### Writing excel files"
   ]
  },
  {
   "cell_type": "code",
   "execution_count": 9,
   "metadata": {},
   "outputs": [
    {
     "data": {
      "text/html": [
       "<div>\n",
       "<style scoped>\n",
       "    .dataframe tbody tr th:only-of-type {\n",
       "        vertical-align: middle;\n",
       "    }\n",
       "\n",
       "    .dataframe tbody tr th {\n",
       "        vertical-align: top;\n",
       "    }\n",
       "\n",
       "    .dataframe thead th {\n",
       "        text-align: right;\n",
       "    }\n",
       "</style>\n",
       "<table border=\"1\" class=\"dataframe\">\n",
       "  <thead>\n",
       "    <tr style=\"text-align: right;\">\n",
       "      <th></th>\n",
       "      <th>modelo</th>\n",
       "      <th>matricula</th>\n",
       "      <th>color</th>\n",
       "      <th>año</th>\n",
       "    </tr>\n",
       "  </thead>\n",
       "  <tbody>\n",
       "    <tr>\n",
       "      <th>0</th>\n",
       "      <td>Seat Ibiza</td>\n",
       "      <td>8349PFG</td>\n",
       "      <td>Rojo</td>\n",
       "      <td>2016</td>\n",
       "    </tr>\n",
       "    <tr>\n",
       "      <th>1</th>\n",
       "      <td>BMW X3</td>\n",
       "      <td>9449OTF</td>\n",
       "      <td>Azul</td>\n",
       "      <td>2018</td>\n",
       "    </tr>\n",
       "    <tr>\n",
       "      <th>2</th>\n",
       "      <td>Ford Focus</td>\n",
       "      <td>9339FJJ</td>\n",
       "      <td>Negro</td>\n",
       "      <td>2017</td>\n",
       "    </tr>\n",
       "  </tbody>\n",
       "</table>\n",
       "</div>"
      ],
      "text/plain": [
       "       modelo matricula  color   año\n",
       "0  Seat Ibiza   8349PFG   Rojo  2016\n",
       "1      BMW X3   9449OTF   Azul  2018\n",
       "2  Ford Focus   9339FJJ  Negro  2017"
      ]
     },
     "execution_count": 9,
     "metadata": {},
     "output_type": "execute_result"
    }
   ],
   "source": [
    "values=[['Seat Ibiza','8349PFG','Rojo', '2016'],\n",
    "            ['BMW X3','9449OTF','Azul', '2018'],\n",
    "            ['Ford Focus','9339FJJ','Negro', '2017']]\n",
    "header=[\"modelo\",\"matricula\",\"color\",\"año\"]\n",
    "df=pd.DataFrame(values,columns=header)\n",
    "df.head()"
   ]
  },
  {
   "cell_type": "code",
   "execution_count": 10,
   "metadata": {},
   "outputs": [],
   "source": [
    "df.to_excel(\"coches4.xlsx\",index=False)"
   ]
  },
  {
   "cell_type": "markdown",
   "metadata": {},
   "source": [
    "## JSON Files"
   ]
  },
  {
   "cell_type": "markdown",
   "metadata": {},
   "source": [
    "Run this API REST request to see what is a JSON Object"
   ]
  },
  {
   "cell_type": "code",
   "execution_count": 27,
   "metadata": {},
   "outputs": [
    {
     "data": {
      "text/plain": [
       "{'categories': [],\n",
       " 'created_at': '2020-01-05 13:42:23.240175',\n",
       " 'icon_url': 'https://assets.chucknorris.host/img/avatar/chuck-norris.png',\n",
       " 'id': 'dDFP97kVTX660_Y-3XDyvQ',\n",
       " 'updated_at': '2020-01-05 13:42:23.240175',\n",
       " 'url': 'https://api.chucknorris.io/jokes/dDFP97kVTX660_Y-3XDyvQ',\n",
       " 'value': 'Chuck Norris drinks unholy water.'}"
      ]
     },
     "execution_count": 27,
     "metadata": {},
     "output_type": "execute_result"
    }
   ],
   "source": [
    "import requests\n",
    "r = requests.get('https://api.chucknorris.io/jokes/random')\n",
    "r.json()"
   ]
  },
  {
   "cell_type": "code",
   "execution_count": 28,
   "metadata": {},
   "outputs": [
    {
     "name": "stdout",
     "output_type": "stream",
     "text": [
      "<class 'dict'>\n"
     ]
    }
   ],
   "source": [
    "output=r.json()\n",
    "print(type(output))"
   ]
  },
  {
   "cell_type": "markdown",
   "metadata": {},
   "source": [
    "Now you can access all the elements of this object according the dicctionary rules"
   ]
  },
  {
   "cell_type": "code",
   "execution_count": 29,
   "metadata": {},
   "outputs": [
    {
     "data": {
      "text/plain": [
       "'Chuck Norris drinks unholy water.'"
      ]
     },
     "execution_count": 29,
     "metadata": {},
     "output_type": "execute_result"
    }
   ],
   "source": [
    "output[\"value\"]"
   ]
  },
  {
   "cell_type": "markdown",
   "metadata": {},
   "source": [
    "### Reading JSON Files"
   ]
  },
  {
   "cell_type": "markdown",
   "metadata": {},
   "source": [
    "Json files are regular text files with a JSON object inside. If we read it, we will recover the content as a STRING variable"
   ]
  },
  {
   "cell_type": "code",
   "execution_count": 30,
   "metadata": {},
   "outputs": [],
   "source": [
    "with open('menu.json','r',encoding='utf-8') as file:\n",
    "    json_string=file.read()"
   ]
  },
  {
   "cell_type": "code",
   "execution_count": 31,
   "metadata": {},
   "outputs": [
    {
     "name": "stdout",
     "output_type": "stream",
     "text": [
      "{\n",
      "  \"menu\": {\n",
      "    \"day\": \"29/10/2019\",\n",
      "    \"value\": \"11.50€\",\n",
      "    \"food\": {\n",
      "      \"options\": [\n",
      "        {\"starter\": \"soup\", \"main\": \"fish&chips\"},\n",
      "        {\"starter\": \"salad\", \"main\": \"pasta\"},\n",
      "        {\"starter\": \"steak tartare\", \"main\": \"tuna\"}\n",
      "      ]\n",
      "    }\n",
      "  }\n",
      "}\n"
     ]
    }
   ],
   "source": [
    "print(json_string)"
   ]
  },
  {
   "cell_type": "code",
   "execution_count": 32,
   "metadata": {},
   "outputs": [
    {
     "data": {
      "text/plain": [
       "str"
      ]
     },
     "execution_count": 32,
     "metadata": {},
     "output_type": "execute_result"
    }
   ],
   "source": [
    "type(json_string)"
   ]
  },
  {
   "cell_type": "markdown",
   "metadata": {},
   "source": [
    "### How to access the 3rd Menu Food Option??"
   ]
  },
  {
   "cell_type": "code",
   "execution_count": 42,
   "metadata": {},
   "outputs": [
    {
     "data": {
      "text/plain": [
       "'[\\n        {\"starter\": \"soup\", \"main\": \"fish&chips\"},\\n        {\"starter\": \"salad\", \"main\": \"pasta\"},\\n        {\"starter\": \"steak tartare\", \"main\": \"tuna\"}\\n      '"
      ]
     },
     "execution_count": 42,
     "metadata": {},
     "output_type": "execute_result"
    }
   ],
   "source": [
    "start=json_string.find(\"[\")\n",
    "end=json_string.find(\"]\")\n",
    "list_string=json_string[start:end]\n",
    "list_string"
   ]
  },
  {
   "cell_type": "code",
   "execution_count": 43,
   "metadata": {},
   "outputs": [
    {
     "data": {
      "text/plain": [
       "'        {\"starter\": \"soup\", \"main\": \"fish&chips\"},        {\"starter\": \"salad\", \"main\": \"pasta\"},        {\"starter\": \"steak tartare\", \"main\": \"tuna\"}      '"
      ]
     },
     "execution_count": 43,
     "metadata": {},
     "output_type": "execute_result"
    }
   ],
   "source": [
    "list_clean=list_string.replace(\"\\n\",\"\").replace(\"[\",\"\").replace(\"]\",\"\")\n",
    "list_clean"
   ]
  },
  {
   "cell_type": "code",
   "execution_count": 46,
   "metadata": {},
   "outputs": [
    {
     "data": {
      "text/plain": [
       "'        {\"starter\": \"steak tartare\", \"main\": \"tuna\"}      '"
      ]
     },
     "execution_count": 46,
     "metadata": {},
     "output_type": "execute_result"
    }
   ],
   "source": [
    "third_option=list_clean.split(\"},\")[2]\n",
    "third_option"
   ]
  },
  {
   "cell_type": "code",
   "execution_count": 61,
   "metadata": {},
   "outputs": [
    {
     "data": {
      "text/plain": [
       "'{\"starter\": \"steak tartare\", \"main\": \"tuna\"'"
      ]
     },
     "execution_count": 61,
     "metadata": {},
     "output_type": "execute_result"
    }
   ],
   "source": [
    "start=third_option.find(\"{\")\n",
    "end=third_option.find(\"}\")\n",
    "option_clean=third_option[start:end]\n",
    "option_clean"
   ]
  },
  {
   "cell_type": "code",
   "execution_count": 63,
   "metadata": {},
   "outputs": [
    {
     "data": {
      "text/plain": [
       "['starter: steak tartare', ' main: tuna']"
      ]
     },
     "execution_count": 63,
     "metadata": {},
     "output_type": "execute_result"
    }
   ],
   "source": [
    "dishes=option_clean.replace(\"{\",\"\").replace('\"','').split(\",\")\n",
    "dishes"
   ]
  },
  {
   "cell_type": "code",
   "execution_count": 64,
   "metadata": {},
   "outputs": [
    {
     "name": "stdout",
     "output_type": "stream",
     "text": [
      "starter: steak tartare\n",
      " main: tuna\n"
     ]
    }
   ],
   "source": [
    "for i in dishes:\n",
    "    print(i)"
   ]
  },
  {
   "cell_type": "markdown",
   "metadata": {},
   "source": [
    "#### There exsits libraries that allow to convert those STRINGS in JSONs (dictionaries)"
   ]
  },
  {
   "cell_type": "code",
   "execution_count": 66,
   "metadata": {},
   "outputs": [],
   "source": [
    "import json\n",
    "json_dict = json.loads(json_string)"
   ]
  },
  {
   "cell_type": "code",
   "execution_count": 67,
   "metadata": {},
   "outputs": [
    {
     "data": {
      "text/plain": [
       "[{'starter': 'soup', 'main': 'fish&chips'},\n",
       " {'starter': 'salad', 'main': 'pasta'},\n",
       " {'starter': 'steak tartare', 'main': 'tuna'}]"
      ]
     },
     "execution_count": 67,
     "metadata": {},
     "output_type": "execute_result"
    }
   ],
   "source": [
    "json_dict[\"menu\"][\"food\"][\"options\"]"
   ]
  },
  {
   "cell_type": "code",
   "execution_count": 68,
   "metadata": {},
   "outputs": [
    {
     "name": "stdout",
     "output_type": "stream",
     "text": [
      "Date:  29/10/2019\n",
      "Price:  11.50€\n",
      "Third menu option:\n",
      "{'starter': 'steak tartare', 'main': 'tuna'}\n"
     ]
    }
   ],
   "source": [
    "print(\"Date: \",json_dict[\"menu\"][\"day\"])\n",
    "print(\"Price: \",json_dict[\"menu\"][\"value\"])\n",
    "print(\"Third menu option:\")\n",
    "print(json_dict[\"menu\"][\"food\"][\"options\"][2])"
   ]
  },
  {
   "cell_type": "markdown",
   "metadata": {},
   "source": [
    "### Writing JSON files"
   ]
  },
  {
   "cell_type": "markdown",
   "metadata": {},
   "source": [
    "Writing a JSON file is basically saving a dictionary into a text file"
   ]
  },
  {
   "cell_type": "code",
   "execution_count": 69,
   "metadata": {},
   "outputs": [
    {
     "name": "stdout",
     "output_type": "stream",
     "text": [
      "<class 'dict'>\n"
     ]
    }
   ],
   "source": [
    "print(type(json_dict))"
   ]
  },
  {
   "cell_type": "code",
   "execution_count": 70,
   "metadata": {},
   "outputs": [
    {
     "data": {
      "text/plain": [
       "{'menu': {'day': '29/10/2019',\n",
       "  'value': '11.50€',\n",
       "  'food': {'options': [{'starter': 'soup', 'main': 'fish&chips'},\n",
       "    {'starter': 'salad', 'main': 'pasta'},\n",
       "    {'starter': 'steak tartare', 'main': 'tuna'}]}}}"
      ]
     },
     "execution_count": 70,
     "metadata": {},
     "output_type": "execute_result"
    }
   ],
   "source": [
    "json_dict"
   ]
  },
  {
   "cell_type": "code",
   "execution_count": 71,
   "metadata": {},
   "outputs": [],
   "source": [
    "with open('menu2.json','w',encoding='utf-8') as file:\n",
    "    file.write(str(json_dict))"
   ]
  },
  {
   "cell_type": "markdown",
   "metadata": {},
   "source": [
    "# PANDAS in 5 minutes"
   ]
  },
  {
   "cell_type": "markdown",
   "metadata": {},
   "source": [
    "### Reading files"
   ]
  },
  {
   "cell_type": "code",
   "execution_count": 2,
   "metadata": {},
   "outputs": [
    {
     "name": "stdout",
     "output_type": "stream",
     "text": [
      "<class 'pandas.core.frame.DataFrame'>\n"
     ]
    },
    {
     "data": {
      "text/html": [
       "<div>\n",
       "<style scoped>\n",
       "    .dataframe tbody tr th:only-of-type {\n",
       "        vertical-align: middle;\n",
       "    }\n",
       "\n",
       "    .dataframe tbody tr th {\n",
       "        vertical-align: top;\n",
       "    }\n",
       "\n",
       "    .dataframe thead th {\n",
       "        text-align: right;\n",
       "    }\n",
       "</style>\n",
       "<table border=\"1\" class=\"dataframe\">\n",
       "  <thead>\n",
       "    <tr style=\"text-align: right;\">\n",
       "      <th></th>\n",
       "      <th>Country</th>\n",
       "      <th>Capital</th>\n",
       "      <th>Area(km.sq)</th>\n",
       "      <th>Population(mio)</th>\n",
       "      <th>Pop. Growth</th>\n",
       "      <th>Currency</th>\n",
       "      <th>Inflation</th>\n",
       "      <th>Official name of Country</th>\n",
       "    </tr>\n",
       "  </thead>\n",
       "  <tbody>\n",
       "    <tr>\n",
       "      <th>0</th>\n",
       "      <td>Afghanistan</td>\n",
       "      <td>Kabul</td>\n",
       "      <td>652 090</td>\n",
       "      <td>29.12</td>\n",
       "      <td>2.58%</td>\n",
       "      <td>Afghani</td>\n",
       "      <td>Not known</td>\n",
       "      <td>Islamic State of Afghanistan</td>\n",
       "    </tr>\n",
       "    <tr>\n",
       "      <th>1</th>\n",
       "      <td>Algeria</td>\n",
       "      <td>Alger</td>\n",
       "      <td>2 381 741</td>\n",
       "      <td>34.3</td>\n",
       "      <td>1.20%</td>\n",
       "      <td>Dinar</td>\n",
       "      <td>Not known</td>\n",
       "      <td>People's Democratic Republic of Algeria</td>\n",
       "    </tr>\n",
       "  </tbody>\n",
       "</table>\n",
       "</div>"
      ],
      "text/plain": [
       "       Country Capital Area(km.sq) Population(mio) Pop. Growth Currency  \\\n",
       "0  Afghanistan   Kabul    652 090            29.12       2.58%  Afghani   \n",
       "1      Algeria   Alger   2 381 741            34.3       1.20%    Dinar   \n",
       "\n",
       "   Inflation                 Official name of Country  \n",
       "0  Not known             Islamic State of Afghanistan  \n",
       "1  Not known  People's Democratic Republic of Algeria  "
      ]
     },
     "execution_count": 2,
     "metadata": {},
     "output_type": "execute_result"
    }
   ],
   "source": [
    "import pandas as pd\n",
    "df=pd.read_csv('country.csv',encoding='ISO-8859-1')\n",
    "print(type(df))\n",
    "df.head(2)"
   ]
  },
  {
   "cell_type": "markdown",
   "metadata": {},
   "source": [
    "#### Accessing by row number"
   ]
  },
  {
   "cell_type": "code",
   "execution_count": 5,
   "metadata": {
    "scrolled": true
   },
   "outputs": [
    {
     "data": {
      "text/html": [
       "<div>\n",
       "<style scoped>\n",
       "    .dataframe tbody tr th:only-of-type {\n",
       "        vertical-align: middle;\n",
       "    }\n",
       "\n",
       "    .dataframe tbody tr th {\n",
       "        vertical-align: top;\n",
       "    }\n",
       "\n",
       "    .dataframe thead th {\n",
       "        text-align: right;\n",
       "    }\n",
       "</style>\n",
       "<table border=\"1\" class=\"dataframe\">\n",
       "  <thead>\n",
       "    <tr style=\"text-align: right;\">\n",
       "      <th></th>\n",
       "      <th>Country</th>\n",
       "      <th>Capital</th>\n",
       "      <th>Area(km.sq)</th>\n",
       "      <th>Population(mio)</th>\n",
       "      <th>Pop. Growth</th>\n",
       "      <th>Currency</th>\n",
       "      <th>Inflation</th>\n",
       "      <th>Official name of Country</th>\n",
       "    </tr>\n",
       "  </thead>\n",
       "  <tbody>\n",
       "    <tr>\n",
       "      <th>0</th>\n",
       "      <td>Afghanistan</td>\n",
       "      <td>Kabul</td>\n",
       "      <td>652 090</td>\n",
       "      <td>29.12</td>\n",
       "      <td>2.58%</td>\n",
       "      <td>Afghani</td>\n",
       "      <td>Not known</td>\n",
       "      <td>Islamic State of Afghanistan</td>\n",
       "    </tr>\n",
       "    <tr>\n",
       "      <th>1</th>\n",
       "      <td>Algeria</td>\n",
       "      <td>Alger</td>\n",
       "      <td>2 381 741</td>\n",
       "      <td>34.3</td>\n",
       "      <td>1.20%</td>\n",
       "      <td>Dinar</td>\n",
       "      <td>Not known</td>\n",
       "      <td>People's Democratic Republic of Algeria</td>\n",
       "    </tr>\n",
       "  </tbody>\n",
       "</table>\n",
       "</div>"
      ],
      "text/plain": [
       "       Country Capital Area(km.sq) Population(mio) Pop. Growth Currency  \\\n",
       "0  Afghanistan   Kabul    652 090            29.12       2.58%  Afghani   \n",
       "1      Algeria   Alger   2 381 741            34.3       1.20%    Dinar   \n",
       "\n",
       "   Inflation                 Official name of Country  \n",
       "0  Not known             Islamic State of Afghanistan  \n",
       "1  Not known  People's Democratic Republic of Algeria  "
      ]
     },
     "execution_count": 5,
     "metadata": {},
     "output_type": "execute_result"
    }
   ],
   "source": [
    "df.iloc[0:2]"
   ]
  },
  {
   "cell_type": "markdown",
   "metadata": {},
   "source": [
    "#### Selecting some columns"
   ]
  },
  {
   "cell_type": "code",
   "execution_count": 6,
   "metadata": {
    "scrolled": true
   },
   "outputs": [
    {
     "data": {
      "text/html": [
       "<div>\n",
       "<style scoped>\n",
       "    .dataframe tbody tr th:only-of-type {\n",
       "        vertical-align: middle;\n",
       "    }\n",
       "\n",
       "    .dataframe tbody tr th {\n",
       "        vertical-align: top;\n",
       "    }\n",
       "\n",
       "    .dataframe thead th {\n",
       "        text-align: right;\n",
       "    }\n",
       "</style>\n",
       "<table border=\"1\" class=\"dataframe\">\n",
       "  <thead>\n",
       "    <tr style=\"text-align: right;\">\n",
       "      <th></th>\n",
       "      <th>Country</th>\n",
       "      <th>Capital</th>\n",
       "      <th>Population(mio)</th>\n",
       "      <th>Pop. Growth</th>\n",
       "      <th>Official name of Country</th>\n",
       "    </tr>\n",
       "  </thead>\n",
       "  <tbody>\n",
       "    <tr>\n",
       "      <th>0</th>\n",
       "      <td>Afghanistan</td>\n",
       "      <td>Kabul</td>\n",
       "      <td>29.12</td>\n",
       "      <td>2.58%</td>\n",
       "      <td>Islamic State of Afghanistan</td>\n",
       "    </tr>\n",
       "    <tr>\n",
       "      <th>1</th>\n",
       "      <td>Algeria</td>\n",
       "      <td>Alger</td>\n",
       "      <td>34.3</td>\n",
       "      <td>1.20%</td>\n",
       "      <td>People's Democratic Republic of Algeria</td>\n",
       "    </tr>\n",
       "  </tbody>\n",
       "</table>\n",
       "</div>"
      ],
      "text/plain": [
       "       Country Capital Population(mio) Pop. Growth  \\\n",
       "0  Afghanistan   Kabul           29.12       2.58%   \n",
       "1      Algeria   Alger            34.3       1.20%   \n",
       "\n",
       "                  Official name of Country  \n",
       "0             Islamic State of Afghanistan  \n",
       "1  People's Democratic Republic of Algeria  "
      ]
     },
     "execution_count": 6,
     "metadata": {},
     "output_type": "execute_result"
    }
   ],
   "source": [
    "columns=[\"Country\",\"Capital\",\"Population(mio)\",\"Pop. Growth\",\"Official name of Country\"]\n",
    "df.iloc[0:2][columns]"
   ]
  },
  {
   "cell_type": "markdown",
   "metadata": {},
   "source": [
    "#### Filtering by condition"
   ]
  },
  {
   "cell_type": "code",
   "execution_count": 6,
   "metadata": {
    "scrolled": true
   },
   "outputs": [
    {
     "data": {
      "text/plain": [
       "0      False\n",
       "1      False\n",
       "2      False\n",
       "3      False\n",
       "4      False\n",
       "5       True\n",
       "6      False\n",
       "7      False\n",
       "8       True\n",
       "9      False\n",
       "10     False\n",
       "11     False\n",
       "12     False\n",
       "13      True\n",
       "14     False\n",
       "15     False\n",
       "16     False\n",
       "17     False\n",
       "18     False\n",
       "19     False\n",
       "20     False\n",
       "21     False\n",
       "22     False\n",
       "23     False\n",
       "24     False\n",
       "25     False\n",
       "26     False\n",
       "27     False\n",
       "28     False\n",
       "29     False\n",
       "       ...  \n",
       "105    False\n",
       "106    False\n",
       "107    False\n",
       "108    False\n",
       "109    False\n",
       "110    False\n",
       "111    False\n",
       "112     True\n",
       "113    False\n",
       "114    False\n",
       "115    False\n",
       "116    False\n",
       "117    False\n",
       "118    False\n",
       "119     True\n",
       "120    False\n",
       "121    False\n",
       "122    False\n",
       "123    False\n",
       "124    False\n",
       "125    False\n",
       "126    False\n",
       "127    False\n",
       "128    False\n",
       "129    False\n",
       "130    False\n",
       "131    False\n",
       "132    False\n",
       "133    False\n",
       "134     True\n",
       "Name: Currency, Length: 135, dtype: bool"
      ]
     },
     "execution_count": 6,
     "metadata": {},
     "output_type": "execute_result"
    }
   ],
   "source": [
    "df[\"Currency\"]==\"Dollar\""
   ]
  },
  {
   "cell_type": "code",
   "execution_count": 17,
   "metadata": {
    "scrolled": true
   },
   "outputs": [
    {
     "data": {
      "text/html": [
       "<div>\n",
       "<style scoped>\n",
       "    .dataframe tbody tr th:only-of-type {\n",
       "        vertical-align: middle;\n",
       "    }\n",
       "\n",
       "    .dataframe tbody tr th {\n",
       "        vertical-align: top;\n",
       "    }\n",
       "\n",
       "    .dataframe thead th {\n",
       "        text-align: right;\n",
       "    }\n",
       "</style>\n",
       "<table border=\"1\" class=\"dataframe\">\n",
       "  <thead>\n",
       "    <tr style=\"text-align: right;\">\n",
       "      <th></th>\n",
       "      <th>Country</th>\n",
       "      <th>Capital</th>\n",
       "      <th>Area(km.sq)</th>\n",
       "      <th>Population(mio)</th>\n",
       "      <th>Pop. Growth</th>\n",
       "      <th>Currency</th>\n",
       "      <th>Official name of Country</th>\n",
       "      <th>newCol</th>\n",
       "    </tr>\n",
       "  </thead>\n",
       "  <tbody>\n",
       "    <tr>\n",
       "      <th>5</th>\n",
       "      <td>Bahamas</td>\n",
       "      <td>Nassau</td>\n",
       "      <td>13 940</td>\n",
       "      <td>0.35</td>\n",
       "      <td>0.93%</td>\n",
       "      <td>Dollar</td>\n",
       "      <td>Commonwealth of the Bahamas</td>\n",
       "      <td>This is New</td>\n",
       "    </tr>\n",
       "    <tr>\n",
       "      <th>8</th>\n",
       "      <td>Belize</td>\n",
       "      <td>Belmopan</td>\n",
       "      <td>22 960</td>\n",
       "      <td>0.33</td>\n",
       "      <td>2.15%</td>\n",
       "      <td>Dollar</td>\n",
       "      <td>NaN</td>\n",
       "      <td>This is New</td>\n",
       "    </tr>\n",
       "    <tr>\n",
       "      <th>13</th>\n",
       "      <td>Brunei</td>\n",
       "      <td>Bandar Seri Begawan</td>\n",
       "      <td>5 765</td>\n",
       "      <td>0.41</td>\n",
       "      <td>1.76%</td>\n",
       "      <td>Dollar</td>\n",
       "      <td>Brunei Darussalam</td>\n",
       "      <td>This is New</td>\n",
       "    </tr>\n",
       "    <tr>\n",
       "      <th>37</th>\n",
       "      <td>Fiji</td>\n",
       "      <td>Suva</td>\n",
       "      <td>18 376</td>\n",
       "      <td>0.85</td>\n",
       "      <td>1.38%</td>\n",
       "      <td>Dollar</td>\n",
       "      <td>Republic of Fiji</td>\n",
       "      <td>This is New</td>\n",
       "    </tr>\n",
       "    <tr>\n",
       "      <th>47</th>\n",
       "      <td>Guyana</td>\n",
       "      <td>George Town</td>\n",
       "      <td>214 970</td>\n",
       "      <td>Not known</td>\n",
       "      <td>-0.63%</td>\n",
       "      <td>Dollar</td>\n",
       "      <td>Cooperative Republic of Guyana</td>\n",
       "      <td>This is New</td>\n",
       "    </tr>\n",
       "    <tr>\n",
       "      <th>56</th>\n",
       "      <td>Jamaica</td>\n",
       "      <td>Kingston</td>\n",
       "      <td>10 490</td>\n",
       "      <td>2.73</td>\n",
       "      <td>0.76%</td>\n",
       "      <td>Dollar</td>\n",
       "      <td>NaN</td>\n",
       "      <td>This is New</td>\n",
       "    </tr>\n",
       "    <tr>\n",
       "      <th>65</th>\n",
       "      <td>Liberia</td>\n",
       "      <td>Monrovia</td>\n",
       "      <td>111 370</td>\n",
       "      <td>4.1</td>\n",
       "      <td>2.67%</td>\n",
       "      <td>Dollar</td>\n",
       "      <td>Republic of Liberia</td>\n",
       "      <td>This is New</td>\n",
       "    </tr>\n",
       "    <tr>\n",
       "      <th>83</th>\n",
       "      <td>New Zealand</td>\n",
       "      <td>Wellington</td>\n",
       "      <td>269 000</td>\n",
       "      <td>4.4</td>\n",
       "      <td>0.94%</td>\n",
       "      <td>Dollar</td>\n",
       "      <td>NaN</td>\n",
       "      <td>This is New</td>\n",
       "    </tr>\n",
       "    <tr>\n",
       "      <th>103</th>\n",
       "      <td>Solomon Islands</td>\n",
       "      <td>Honiara</td>\n",
       "      <td>27 556</td>\n",
       "      <td>0.53</td>\n",
       "      <td>2.39%</td>\n",
       "      <td>Dollar</td>\n",
       "      <td>NaN</td>\n",
       "      <td>This is New</td>\n",
       "    </tr>\n",
       "    <tr>\n",
       "      <th>112</th>\n",
       "      <td>Taiwan</td>\n",
       "      <td>Taipei</td>\n",
       "      <td>39 179</td>\n",
       "      <td>23.16</td>\n",
       "      <td>0.23%</td>\n",
       "      <td>Dollar</td>\n",
       "      <td>NaN</td>\n",
       "      <td>This is New</td>\n",
       "    </tr>\n",
       "    <tr>\n",
       "      <th>119</th>\n",
       "      <td>Trinidad and Tobago</td>\n",
       "      <td>Port Of Spain</td>\n",
       "      <td>5 130</td>\n",
       "      <td>1.32</td>\n",
       "      <td>-0.10%</td>\n",
       "      <td>Dollar</td>\n",
       "      <td>Republic of Trinidad and Tobago</td>\n",
       "      <td>This is New</td>\n",
       "    </tr>\n",
       "    <tr>\n",
       "      <th>134</th>\n",
       "      <td>Zimbabwe</td>\n",
       "      <td>Harare</td>\n",
       "      <td>390 759</td>\n",
       "      <td>12.64</td>\n",
       "      <td>1.53%</td>\n",
       "      <td>Dollar</td>\n",
       "      <td>Republic of Zimbabwe</td>\n",
       "      <td>This is New</td>\n",
       "    </tr>\n",
       "  </tbody>\n",
       "</table>\n",
       "</div>"
      ],
      "text/plain": [
       "                 Country              Capital Area(km.sq) Population(mio)  \\\n",
       "5                Bahamas               Nassau      13 940            0.35   \n",
       "8                 Belize             Belmopan      22 960            0.33   \n",
       "13                Brunei  Bandar Seri Begawan      5 765             0.41   \n",
       "37                  Fiji                 Suva      18 376            0.85   \n",
       "47                Guyana          George Town     214 970       Not known   \n",
       "56               Jamaica             Kingston      10 490            2.73   \n",
       "65               Liberia             Monrovia     111 370             4.1   \n",
       "83           New Zealand           Wellington    269 000              4.4   \n",
       "103      Solomon Islands              Honiara      27 556            0.53   \n",
       "112               Taiwan               Taipei     39 179            23.16   \n",
       "119  Trinidad and Tobago        Port Of Spain       5 130            1.32   \n",
       "134             Zimbabwe               Harare     390 759           12.64   \n",
       "\n",
       "    Pop. Growth Currency         Official name of Country       newCol  \n",
       "5         0.93%   Dollar      Commonwealth of the Bahamas  This is New  \n",
       "8         2.15%   Dollar                              NaN  This is New  \n",
       "13        1.76%   Dollar                Brunei Darussalam  This is New  \n",
       "37        1.38%   Dollar                 Republic of Fiji  This is New  \n",
       "47       -0.63%   Dollar   Cooperative Republic of Guyana  This is New  \n",
       "56        0.76%   Dollar                              NaN  This is New  \n",
       "65        2.67%   Dollar              Republic of Liberia  This is New  \n",
       "83        0.94%   Dollar                              NaN  This is New  \n",
       "103       2.39%   Dollar                              NaN  This is New  \n",
       "112       0.23%   Dollar                              NaN  This is New  \n",
       "119      -0.10%   Dollar  Republic of Trinidad and Tobago  This is New  \n",
       "134       1.53%   Dollar             Republic of Zimbabwe  This is New  "
      ]
     },
     "execution_count": 17,
     "metadata": {},
     "output_type": "execute_result"
    }
   ],
   "source": [
    "df[df[\"Currency\"]==\"Dollar\"]"
   ]
  },
  {
   "cell_type": "markdown",
   "metadata": {},
   "source": [
    "#### Add new column"
   ]
  },
  {
   "cell_type": "code",
   "execution_count": 7,
   "metadata": {},
   "outputs": [
    {
     "data": {
      "text/html": [
       "<div>\n",
       "<style scoped>\n",
       "    .dataframe tbody tr th:only-of-type {\n",
       "        vertical-align: middle;\n",
       "    }\n",
       "\n",
       "    .dataframe tbody tr th {\n",
       "        vertical-align: top;\n",
       "    }\n",
       "\n",
       "    .dataframe thead th {\n",
       "        text-align: right;\n",
       "    }\n",
       "</style>\n",
       "<table border=\"1\" class=\"dataframe\">\n",
       "  <thead>\n",
       "    <tr style=\"text-align: right;\">\n",
       "      <th></th>\n",
       "      <th>Country</th>\n",
       "      <th>Capital</th>\n",
       "      <th>Area(km.sq)</th>\n",
       "      <th>Population(mio)</th>\n",
       "      <th>Pop. Growth</th>\n",
       "      <th>Currency</th>\n",
       "      <th>Inflation</th>\n",
       "      <th>Official name of Country</th>\n",
       "      <th>newCol</th>\n",
       "    </tr>\n",
       "  </thead>\n",
       "  <tbody>\n",
       "    <tr>\n",
       "      <th>0</th>\n",
       "      <td>Afghanistan</td>\n",
       "      <td>Kabul</td>\n",
       "      <td>652 090</td>\n",
       "      <td>29.12</td>\n",
       "      <td>2.58%</td>\n",
       "      <td>Afghani</td>\n",
       "      <td>Not known</td>\n",
       "      <td>Islamic State of Afghanistan</td>\n",
       "      <td>This is New</td>\n",
       "    </tr>\n",
       "    <tr>\n",
       "      <th>1</th>\n",
       "      <td>Algeria</td>\n",
       "      <td>Alger</td>\n",
       "      <td>2 381 741</td>\n",
       "      <td>34.3</td>\n",
       "      <td>1.20%</td>\n",
       "      <td>Dinar</td>\n",
       "      <td>Not known</td>\n",
       "      <td>People's Democratic Republic of Algeria</td>\n",
       "      <td>This is New</td>\n",
       "    </tr>\n",
       "    <tr>\n",
       "      <th>2</th>\n",
       "      <td>Angola</td>\n",
       "      <td>Luanda</td>\n",
       "      <td>1 246 700</td>\n",
       "      <td>18.99</td>\n",
       "      <td>2.10%</td>\n",
       "      <td>Kwanza</td>\n",
       "      <td>Not known</td>\n",
       "      <td>Republic of Angola</td>\n",
       "      <td>This is New</td>\n",
       "    </tr>\n",
       "    <tr>\n",
       "      <th>3</th>\n",
       "      <td>Antigua and Barbuda</td>\n",
       "      <td>Saint Johns</td>\n",
       "      <td>440</td>\n",
       "      <td>0.09</td>\n",
       "      <td>1.30%</td>\n",
       "      <td>E.C. Dollar</td>\n",
       "      <td>Not known</td>\n",
       "      <td>NaN</td>\n",
       "      <td>This is New</td>\n",
       "    </tr>\n",
       "    <tr>\n",
       "      <th>4</th>\n",
       "      <td>Argentina</td>\n",
       "      <td>Buenos Aires</td>\n",
       "      <td>2 766 890</td>\n",
       "      <td>40.09</td>\n",
       "      <td>1.05%</td>\n",
       "      <td>Peso</td>\n",
       "      <td>Not known</td>\n",
       "      <td>Argentine Republic</td>\n",
       "      <td>This is New</td>\n",
       "    </tr>\n",
       "  </tbody>\n",
       "</table>\n",
       "</div>"
      ],
      "text/plain": [
       "               Country       Capital Area(km.sq) Population(mio) Pop. Growth  \\\n",
       "0          Afghanistan         Kabul    652 090            29.12       2.58%   \n",
       "1              Algeria         Alger   2 381 741            34.3       1.20%   \n",
       "2               Angola        Luanda   1 246 700           18.99       2.10%   \n",
       "3  Antigua and Barbuda   Saint Johns         440            0.09       1.30%   \n",
       "4            Argentina  Buenos Aires  2 766 890            40.09       1.05%   \n",
       "\n",
       "      Currency  Inflation                 Official name of Country  \\\n",
       "0      Afghani  Not known             Islamic State of Afghanistan   \n",
       "1        Dinar  Not known  People's Democratic Republic of Algeria   \n",
       "2       Kwanza  Not known                       Republic of Angola   \n",
       "3  E.C. Dollar  Not known                                      NaN   \n",
       "4         Peso  Not known                       Argentine Republic   \n",
       "\n",
       "        newCol  \n",
       "0  This is New  \n",
       "1  This is New  \n",
       "2  This is New  \n",
       "3  This is New  \n",
       "4  This is New  "
      ]
     },
     "execution_count": 7,
     "metadata": {},
     "output_type": "execute_result"
    }
   ],
   "source": [
    "df[\"newCol\"]=\"This is New\"\n",
    "df.head()"
   ]
  },
  {
   "cell_type": "markdown",
   "metadata": {},
   "source": [
    "#### Remove column"
   ]
  },
  {
   "cell_type": "code",
   "execution_count": 9,
   "metadata": {},
   "outputs": [
    {
     "data": {
      "text/html": [
       "<div>\n",
       "<style scoped>\n",
       "    .dataframe tbody tr th:only-of-type {\n",
       "        vertical-align: middle;\n",
       "    }\n",
       "\n",
       "    .dataframe tbody tr th {\n",
       "        vertical-align: top;\n",
       "    }\n",
       "\n",
       "    .dataframe thead th {\n",
       "        text-align: right;\n",
       "    }\n",
       "</style>\n",
       "<table border=\"1\" class=\"dataframe\">\n",
       "  <thead>\n",
       "    <tr style=\"text-align: right;\">\n",
       "      <th></th>\n",
       "      <th>Country</th>\n",
       "      <th>Capital</th>\n",
       "      <th>Area(km.sq)</th>\n",
       "      <th>Population(mio)</th>\n",
       "      <th>Pop. Growth</th>\n",
       "      <th>Currency</th>\n",
       "      <th>Official name of Country</th>\n",
       "      <th>newCol</th>\n",
       "    </tr>\n",
       "  </thead>\n",
       "  <tbody>\n",
       "    <tr>\n",
       "      <th>0</th>\n",
       "      <td>Afghanistan</td>\n",
       "      <td>Kabul</td>\n",
       "      <td>652 090</td>\n",
       "      <td>29.12</td>\n",
       "      <td>2.58%</td>\n",
       "      <td>Afghani</td>\n",
       "      <td>Islamic State of Afghanistan</td>\n",
       "      <td>This is New</td>\n",
       "    </tr>\n",
       "    <tr>\n",
       "      <th>1</th>\n",
       "      <td>Algeria</td>\n",
       "      <td>Alger</td>\n",
       "      <td>2 381 741</td>\n",
       "      <td>34.3</td>\n",
       "      <td>1.20%</td>\n",
       "      <td>Dinar</td>\n",
       "      <td>People's Democratic Republic of Algeria</td>\n",
       "      <td>This is New</td>\n",
       "    </tr>\n",
       "    <tr>\n",
       "      <th>2</th>\n",
       "      <td>Angola</td>\n",
       "      <td>Luanda</td>\n",
       "      <td>1 246 700</td>\n",
       "      <td>18.99</td>\n",
       "      <td>2.10%</td>\n",
       "      <td>Kwanza</td>\n",
       "      <td>Republic of Angola</td>\n",
       "      <td>This is New</td>\n",
       "    </tr>\n",
       "    <tr>\n",
       "      <th>3</th>\n",
       "      <td>Antigua and Barbuda</td>\n",
       "      <td>Saint Johns</td>\n",
       "      <td>440</td>\n",
       "      <td>0.09</td>\n",
       "      <td>1.30%</td>\n",
       "      <td>E.C. Dollar</td>\n",
       "      <td>NaN</td>\n",
       "      <td>This is New</td>\n",
       "    </tr>\n",
       "    <tr>\n",
       "      <th>4</th>\n",
       "      <td>Argentina</td>\n",
       "      <td>Buenos Aires</td>\n",
       "      <td>2 766 890</td>\n",
       "      <td>40.09</td>\n",
       "      <td>1.05%</td>\n",
       "      <td>Peso</td>\n",
       "      <td>Argentine Republic</td>\n",
       "      <td>This is New</td>\n",
       "    </tr>\n",
       "  </tbody>\n",
       "</table>\n",
       "</div>"
      ],
      "text/plain": [
       "               Country       Capital Area(km.sq) Population(mio) Pop. Growth  \\\n",
       "0          Afghanistan         Kabul    652 090            29.12       2.58%   \n",
       "1              Algeria         Alger   2 381 741            34.3       1.20%   \n",
       "2               Angola        Luanda   1 246 700           18.99       2.10%   \n",
       "3  Antigua and Barbuda   Saint Johns         440            0.09       1.30%   \n",
       "4            Argentina  Buenos Aires  2 766 890            40.09       1.05%   \n",
       "\n",
       "      Currency                 Official name of Country       newCol  \n",
       "0      Afghani             Islamic State of Afghanistan  This is New  \n",
       "1        Dinar  People's Democratic Republic of Algeria  This is New  \n",
       "2       Kwanza                       Republic of Angola  This is New  \n",
       "3  E.C. Dollar                                      NaN  This is New  \n",
       "4         Peso                       Argentine Republic  This is New  "
      ]
     },
     "execution_count": 9,
     "metadata": {},
     "output_type": "execute_result"
    }
   ],
   "source": [
    "df.drop(columns=[\"Inflation\"],inplace=True)\n",
    "df.head()"
   ]
  },
  {
   "cell_type": "markdown",
   "metadata": {},
   "source": [
    "### Writing files with PANDAS"
   ]
  },
  {
   "cell_type": "code",
   "execution_count": 18,
   "metadata": {
    "scrolled": true
   },
   "outputs": [
    {
     "data": {
      "text/html": [
       "<div>\n",
       "<style scoped>\n",
       "    .dataframe tbody tr th:only-of-type {\n",
       "        vertical-align: middle;\n",
       "    }\n",
       "\n",
       "    .dataframe tbody tr th {\n",
       "        vertical-align: top;\n",
       "    }\n",
       "\n",
       "    .dataframe thead th {\n",
       "        text-align: right;\n",
       "    }\n",
       "</style>\n",
       "<table border=\"1\" class=\"dataframe\">\n",
       "  <thead>\n",
       "    <tr style=\"text-align: right;\">\n",
       "      <th></th>\n",
       "      <th>modelo</th>\n",
       "      <th>matricula</th>\n",
       "      <th>color</th>\n",
       "      <th>año</th>\n",
       "    </tr>\n",
       "  </thead>\n",
       "  <tbody>\n",
       "    <tr>\n",
       "      <th>0</th>\n",
       "      <td>Seat Ibiza</td>\n",
       "      <td>8349PFG</td>\n",
       "      <td>Rojo</td>\n",
       "      <td>2016</td>\n",
       "    </tr>\n",
       "    <tr>\n",
       "      <th>1</th>\n",
       "      <td>BMW X3</td>\n",
       "      <td>9449OTF</td>\n",
       "      <td>Azul</td>\n",
       "      <td>2018</td>\n",
       "    </tr>\n",
       "    <tr>\n",
       "      <th>2</th>\n",
       "      <td>Ford Focus</td>\n",
       "      <td>9339FJJ</td>\n",
       "      <td>Negro</td>\n",
       "      <td>2017</td>\n",
       "    </tr>\n",
       "  </tbody>\n",
       "</table>\n",
       "</div>"
      ],
      "text/plain": [
       "       modelo matricula  color   año\n",
       "0  Seat Ibiza   8349PFG   Rojo  2016\n",
       "1      BMW X3   9449OTF   Azul  2018\n",
       "2  Ford Focus   9339FJJ  Negro  2017"
      ]
     },
     "execution_count": 18,
     "metadata": {},
     "output_type": "execute_result"
    }
   ],
   "source": [
    "values=[['Seat Ibiza','8349PFG','Rojo', '2016'],\n",
    "            ['BMW X3','9449OTF','Azul', '2018'],\n",
    "            ['Ford Focus','9339FJJ','Negro', '2017']]\n",
    "header=[\"modelo\",\"matricula\",\"color\",\"año\"]\n",
    "df=pd.DataFrame(values,columns=header)\n",
    "df.head()"
   ]
  },
  {
   "cell_type": "code",
   "execution_count": 13,
   "metadata": {},
   "outputs": [],
   "source": [
    "df.to_csv(\"coches3.csv\",sep=\"^\",index=False)"
   ]
  }
 ],
 "metadata": {
  "kernelspec": {
   "display_name": "Python 3",
   "language": "python",
   "name": "python3"
  },
  "language_info": {
   "codemirror_mode": {
    "name": "ipython",
    "version": 3
   },
   "file_extension": ".py",
   "mimetype": "text/x-python",
   "name": "python",
   "nbconvert_exporter": "python",
   "pygments_lexer": "ipython3",
   "version": "3.8.3"
  }
 },
 "nbformat": 4,
 "nbformat_minor": 2
}
