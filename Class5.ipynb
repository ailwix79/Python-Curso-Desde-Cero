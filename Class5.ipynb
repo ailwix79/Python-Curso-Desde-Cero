{
 "cells": [
  {
   "cell_type": "markdown",
   "metadata": {},
   "source": [
    "# Conditionals"
   ]
  },
  {
   "cell_type": "markdown",
   "metadata": {},
   "source": [
    "## Simple conditionals"
   ]
  },
  {
   "cell_type": "code",
   "execution_count": 1,
   "metadata": {},
   "outputs": [
    {
     "name": "stdout",
     "output_type": "stream",
     "text": [
      "x is positive\n"
     ]
    }
   ],
   "source": [
    "x=10\n",
    "if x > 0: \n",
    "  print(\"x is positive\")\n",
    "else:\n",
    "  print(\"x is negative\")"
   ]
  },
  {
   "cell_type": "code",
   "execution_count": 2,
   "metadata": {},
   "outputs": [
    {
     "name": "stdout",
     "output_type": "stream",
     "text": [
      "x is negative\n"
     ]
    }
   ],
   "source": [
    "x=-10\n",
    "if x > 0: \n",
    "  print(\"x is positive\")\n",
    "else:\n",
    "  print(\"x is negative\")"
   ]
  },
  {
   "cell_type": "markdown",
   "metadata": {},
   "source": [
    "## Chained conditionals"
   ]
  },
  {
   "cell_type": "code",
   "execution_count": 3,
   "metadata": {},
   "outputs": [
    {
     "name": "stdout",
     "output_type": "stream",
     "text": [
      "x is zero\n"
     ]
    }
   ],
   "source": [
    "x=0\n",
    "if x > 0: \n",
    "  print(\"x is positive\")\n",
    "elif x <0:\n",
    "  print(\"x is negative\")\n",
    "else:\n",
    "  print(\"x is zero\")"
   ]
  },
  {
   "cell_type": "code",
   "execution_count": 4,
   "metadata": {},
   "outputs": [
    {
     "name": "stdout",
     "output_type": "stream",
     "text": [
      "x is larger than 20\n"
     ]
    }
   ],
   "source": [
    "x=25\n",
    "if x > 50: \n",
    "  print(\"x is larger than 50\")\n",
    "elif x > 20:\n",
    "  print(\"x is larger than 20\")\n",
    "elif x > 10:\n",
    "  print(\"x is larger than 10\")\n",
    "else:\n",
    "  print(\"x is fewer than 10\")"
   ]
  },
  {
   "cell_type": "markdown",
   "metadata": {},
   "source": [
    "## Nested conditionals"
   ]
  },
  {
   "cell_type": "code",
   "execution_count": 5,
   "metadata": {},
   "outputs": [
    {
     "name": "stdout",
     "output_type": "stream",
     "text": [
      "x is fewer than 50 but larger than 0\n"
     ]
    }
   ],
   "source": [
    "x=25\n",
    "if x>0:\n",
    "    if x>=50:\n",
    "        print(\"x is larger or equal than 50\")\n",
    "    else:\n",
    "        print(\"x is fewer than 50 but larger than 0\")    \n",
    "elif x<0:\n",
    "    if x <=-50:\n",
    "        print(\"x is fewer or equal than -50\")\n",
    "    else:\n",
    "        print(\"x is larger -50 but fewer than 0\")        \n",
    "else:\n",
    "    print(\"x=0\")"
   ]
  },
  {
   "cell_type": "code",
   "execution_count": 6,
   "metadata": {},
   "outputs": [
    {
     "name": "stdout",
     "output_type": "stream",
     "text": [
      "x is fewer than 50 but larger than 0\n"
     ]
    }
   ],
   "source": [
    "x=25\n",
    "if x>=50:    print(\"x is larger or equal than 50\")\n",
    "elif x>0:    print(\"x is fewer than 50 but larger than 0\")\n",
    "elif x==0:   print(\"x=0\")\n",
    "elif x<=-50: print(\"x is fewer or equal than -50\")\n",
    "else:        print(\"x is larger -50 but fewer than 0\")"
   ]
  },
  {
   "cell_type": "markdown",
   "metadata": {},
   "source": [
    "## Ternary expressions"
   ]
  },
  {
   "cell_type": "code",
   "execution_count": 7,
   "metadata": {},
   "outputs": [
    {
     "name": "stdout",
     "output_type": "stream",
     "text": [
      "Value of x is:  positivo\n"
     ]
    }
   ],
   "source": [
    "x=True\n",
    "if x:\n",
    "    A = \"positivo\"\n",
    "else:\n",
    "    A = \"negativo\"\n",
    "print(\"Value of x is: \",A)"
   ]
  },
  {
   "cell_type": "code",
   "execution_count": 8,
   "metadata": {},
   "outputs": [
    {
     "name": "stdout",
     "output_type": "stream",
     "text": [
      "Value of x is:  positivo\n"
     ]
    }
   ],
   "source": [
    "x=True\n",
    "A= \"positivo\" if x else \"negativo\"\n",
    "print(\"Value of x is: \",A)"
   ]
  },
  {
   "cell_type": "markdown",
   "metadata": {},
   "source": [
    "## Using Logical Operators"
   ]
  },
  {
   "cell_type": "code",
   "execution_count": 9,
   "metadata": {},
   "outputs": [
    {
     "name": "stdout",
     "output_type": "stream",
     "text": [
      "x is a positive single digit.\n"
     ]
    }
   ],
   "source": [
    "x=5\n",
    "if 0 < x: \n",
    "  if x < 10: \n",
    "    print(\"x is a positive single digit.\")"
   ]
  },
  {
   "cell_type": "code",
   "execution_count": 10,
   "metadata": {},
   "outputs": [
    {
     "name": "stdout",
     "output_type": "stream",
     "text": [
      "x is a positive single digit.\n"
     ]
    }
   ],
   "source": [
    "x=5\n",
    "if 0 < x and x < 10: \n",
    "    print(\"x is a positive single digit.\")"
   ]
  },
  {
   "cell_type": "markdown",
   "metadata": {},
   "source": [
    "## Syntax"
   ]
  },
  {
   "cell_type": "markdown",
   "metadata": {},
   "source": [
    "### Conditions satisfied"
   ]
  },
  {
   "cell_type": "code",
   "execution_count": 11,
   "metadata": {},
   "outputs": [
    {
     "name": "stdout",
     "output_type": "stream",
     "text": [
      "condition satisfied\n"
     ]
    }
   ],
   "source": [
    "x = True\n",
    "if x:\n",
    "    print(\"condition satisfied\")"
   ]
  },
  {
   "cell_type": "code",
   "execution_count": 12,
   "metadata": {},
   "outputs": [
    {
     "name": "stdout",
     "output_type": "stream",
     "text": [
      "condition satisfied\n"
     ]
    }
   ],
   "source": [
    "x = 5\n",
    "if x:\n",
    "    print(\"condition satisfied\")"
   ]
  },
  {
   "cell_type": "code",
   "execution_count": 13,
   "metadata": {},
   "outputs": [
    {
     "name": "stdout",
     "output_type": "stream",
     "text": [
      "condition false\n"
     ]
    }
   ],
   "source": [
    "x = {}\n",
    "if x:\n",
    "    print(\"condition satisfied\")\n",
    "else:\n",
    "    print(\"condition false\")"
   ]
  },
  {
   "cell_type": "markdown",
   "metadata": {},
   "source": [
    "### Execution blocks"
   ]
  },
  {
   "cell_type": "code",
   "execution_count": 1,
   "metadata": {},
   "outputs": [
    {
     "name": "stdout",
     "output_type": "stream",
     "text": [
      "this is block 0\n",
      "this is main branch of block 1\n",
      "this is main branch of block 2\n",
      "this is still main branch of block 1\n",
      "this is block 0, again\n"
     ]
    }
   ],
   "source": [
    "x = 1\n",
    "print('this is block 0')\n",
    "if x >0:\n",
    "    print(\"this is main branch of block 1\")\n",
    "    y = 1\n",
    "    if y >0:\n",
    "        print('this is main branch of block 2')\n",
    "    else:\n",
    "        print('this is else branch of block 2')\n",
    "    print('this is still main branch of block 1')\n",
    "print('this is block 0, again')"
   ]
  },
  {
   "cell_type": "code",
   "execution_count": 15,
   "metadata": {},
   "outputs": [
    {
     "name": "stdout",
     "output_type": "stream",
     "text": [
      "this is block 0\n",
      "this is main branch of block 1\n",
      "this is main branch of block 2\n",
      "this is block 0, again\n"
     ]
    }
   ],
   "source": [
    "x = 1\n",
    "print('this is block 0')\n",
    "if x >0:\n",
    "    print(\"this is main branch of block 1\")\n",
    "    y = 1\n",
    "    if y >0:\n",
    "        print('this is main branch of block 2')\n",
    "else:\n",
    "    print('this is else branch of block 1')\n",
    "    print('this is still else branch of block 1')\n",
    "print('this is block 0, again')"
   ]
  },
  {
   "cell_type": "markdown",
   "metadata": {},
   "source": [
    "### Long lines"
   ]
  },
  {
   "cell_type": "code",
   "execution_count": 16,
   "metadata": {},
   "outputs": [],
   "source": [
    "a,b,c,d,e,f,g=1,2,3,4,5,6,7"
   ]
  },
  {
   "cell_type": "code",
   "execution_count": 17,
   "metadata": {},
   "outputs": [],
   "source": [
    "if a == b and b == c and c == d and d == e and e == f and f == g:\n",
    "    print(\"all equals\")"
   ]
  },
  {
   "cell_type": "code",
   "execution_count": 18,
   "metadata": {},
   "outputs": [],
   "source": [
    "if a == b and b == c     \\\n",
    "   and c == d and d == e \\\n",
    "   and e == f and f == g :\n",
    "    print(\"all equals\")"
   ]
  },
  {
   "cell_type": "code",
   "execution_count": 19,
   "metadata": {},
   "outputs": [],
   "source": [
    "if (a == b and b == c\n",
    "   and c == d and d == e \n",
    "   and e == f and f == g) :\n",
    "    print(\"all equals\")"
   ]
  },
  {
   "cell_type": "markdown",
   "metadata": {},
   "source": [
    "## Common uses"
   ]
  },
  {
   "cell_type": "markdown",
   "metadata": {},
   "source": [
    "### Membership verification"
   ]
  },
  {
   "cell_type": "code",
   "execution_count": 20,
   "metadata": {},
   "outputs": [
    {
     "name": "stdout",
     "output_type": "stream",
     "text": [
      "{'M': 1, 'i': 8, 's': 8, 'p': 2, ' ': 9, 't': 6, 'h': 2, 'e': 7, 'c': 1, 'o': 2, 'n': 4, 'd': 2, 'l': 1, 'g': 1, 'r': 2, 'v': 1, 'U': 1, 'S': 1, 'a': 1}\n"
     ]
    }
   ],
   "source": [
    "sentence=\"Mississippi is the second longest river in the United States\"\n",
    "letterCounts={}\n",
    "for letter in sentence:\n",
    "    if letter in letterCounts:\n",
    "        letterCounts[letter]=letterCounts[letter]+1\n",
    "    else:\n",
    "        letterCounts[letter]=1\n",
    "print(letterCounts)"
   ]
  },
  {
   "cell_type": "markdown",
   "metadata": {},
   "source": [
    "### Multiple choice"
   ]
  },
  {
   "cell_type": "code",
   "execution_count": 21,
   "metadata": {},
   "outputs": [
    {
     "name": "stdout",
     "output_type": "stream",
     "text": [
      "Please, select an action to do with your file\n",
      "- Delete\n",
      "- Rename\n",
      "- Clone\n",
      "- Move\n",
      "Delete\n",
      "Call delete function\n"
     ]
    }
   ],
   "source": [
    "print(\"Please, select an action to do with your file\")\n",
    "print(\"- Delete\")\n",
    "print(\"- Rename\")\n",
    "print(\"- Clone\")\n",
    "print(\"- Move\")\n",
    "action = input()\n",
    "if action == \"Delete\": \n",
    "    print(\"Call delete function\")\n",
    "elif action == \"Rename\":\n",
    "    print(\"Call rename function\")\n",
    "elif action == \"Clone\":\n",
    "    print(\"Call clone function\")\n",
    "elif action == \"Move\":\n",
    "    print(\"Call move function\")\n",
    "else:\n",
    "    print(\"Action unkown\")"
   ]
  },
  {
   "cell_type": "markdown",
   "metadata": {},
   "source": [
    "### Rules checking"
   ]
  },
  {
   "cell_type": "code",
   "execution_count": 22,
   "metadata": {},
   "outputs": [],
   "source": [
    "vehicles=dict(car1=dict(model=\"saab93\",length=464, width=176, height=145, weight=1570),\n",
    "              car2=dict(model=\"fordfocus\",length=439, width=182, height=148, weight=1493),\n",
    "              car3=dict(model=\"nissanevalia\",length=440, width=169, height=186, weight=1431),\n",
    "              car4=dict(model=\"bmwq7\",length=515, width=200, height=180, weight=2445),\n",
    "              car5=dict(model=\"citroends3\",length=395, width=171, height=148, weight=1090))"
   ]
  },
  {
   "cell_type": "code",
   "execution_count": 23,
   "metadata": {},
   "outputs": [
    {
     "name": "stdout",
     "output_type": "stream",
     "text": [
      "Car  saab93  can park\n",
      "Car  fordfocus  can park\n",
      "Car  nissanevalia  cannot park\n",
      "Car  bmwq7  cannot park\n",
      "Car  citroends3  can park\n"
     ]
    }
   ],
   "source": [
    "max_length=600\n",
    "max_width=200\n",
    "max_height=180\n",
    "max_weight=2000\n",
    "for index in vehicles:\n",
    "    car=vehicles[index]\n",
    "    if (car[\"length\"]<max_length and \n",
    "        car[\"width\"]<max_width and \n",
    "        car[\"height\"]<max_height and \n",
    "        car[\"weight\"]<max_weight):\n",
    "        print(\"Car \",car[\"model\"],\" can park\")\n",
    "    else:\n",
    "        print(\"Car \",car[\"model\"],\" cannot park\")"
   ]
  },
  {
   "cell_type": "markdown",
   "metadata": {},
   "source": [
    "### Avoid Exceptions"
   ]
  },
  {
   "cell_type": "code",
   "execution_count": 24,
   "metadata": {},
   "outputs": [
    {
     "name": "stdout",
     "output_type": "stream",
     "text": [
      "Average:  0.0\n",
      "Standard deviation:  86.60254037844386\n"
     ]
    }
   ],
   "source": [
    "import numpy as np\n",
    "elements=[100,100,-100,-100,50,-50]\n",
    "mean=np.mean(elements)\n",
    "std=np.std(elements)\n",
    "print(\"Average: \",mean)\n",
    "print(\"Standard deviation: \",std)"
   ]
  },
  {
   "cell_type": "code",
   "execution_count": 25,
   "metadata": {},
   "outputs": [
    {
     "name": "stderr",
     "output_type": "stream",
     "text": [
      "C:\\Users\\luis\\Anaconda3\\lib\\site-packages\\ipykernel_launcher.py:1: RuntimeWarning: divide by zero encountered in double_scalars\n",
      "  \"\"\"Entry point for launching an IPython kernel.\n"
     ]
    }
   ],
   "source": [
    "std_realative_to_mean=std/mean"
   ]
  },
  {
   "cell_type": "code",
   "execution_count": 26,
   "metadata": {},
   "outputs": [
    {
     "name": "stdout",
     "output_type": "stream",
     "text": [
      "STD relative to average:  inf\n"
     ]
    }
   ],
   "source": [
    "if mean!=0: \n",
    "    std_realative_to_mean=std/mean\n",
    "else:\n",
    "    std_realative_to_mean=np.inf\n",
    "    \n",
    "print(\"STD relative to average: \",std_realative_to_mean)"
   ]
  }
 ],
 "metadata": {
  "kernelspec": {
   "display_name": "Python 3",
   "language": "python",
   "name": "python3"
  },
  "language_info": {
   "codemirror_mode": {
    "name": "ipython",
    "version": 3
   },
   "file_extension": ".py",
   "mimetype": "text/x-python",
   "name": "python",
   "nbconvert_exporter": "python",
   "pygments_lexer": "ipython3",
   "version": "3.8.3"
  }
 },
 "nbformat": 4,
 "nbformat_minor": 2
}
