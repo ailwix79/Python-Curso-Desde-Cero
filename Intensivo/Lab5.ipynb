{
 "cells": [
  {
   "cell_type": "markdown",
   "metadata": {},
   "source": [
    "# Lab5: Functions"
   ]
  },
  {
   "cell_type": "code",
   "execution_count": 1,
   "metadata": {},
   "outputs": [],
   "source": [
    "def validate(password):\n",
    "    \n",
    "    has_right_length=len(password)==8\n",
    "    has_one_lower_case= any([i.islower() for i in password])\n",
    "    has_one_upper_case= any([i.isupper() for i in password])\n",
    "    has_one_digit= any([i.isdigit() for i in password])\n",
    "    has_one_symbol= any([not i.isdigit() and not i.islower() and not i.isupper() and not i.isspace() for i in password])\n",
    "\n",
    "    if has_right_length: \n",
    "        print(\"- Right length\") \n",
    "    else: \n",
    "        print (\"- Wrong length\")\n",
    "    if has_one_lower_case: \n",
    "        print(\"- Right lower case\") \n",
    "    else: \n",
    "        print (\"- Wrong lower case\")      \n",
    "    if has_one_upper_case: \n",
    "        print(\"- Right upper case\")     \n",
    "    else: \n",
    "        print (\"- Wrong upper case\")  \n",
    "    if has_one_digit: \n",
    "        print(\"- Right digits\") \n",
    "    else: \n",
    "        print (\"- Wrong digits\")  \n",
    "    if has_one_symbol: \n",
    "        print(\"- Right symbols\") \n",
    "    else: \n",
    "        print (\"- Wrong symbols\")  \n",
    "\n",
    "    if (has_right_length and \n",
    "        has_one_lower_case and \n",
    "        has_one_upper_case and \n",
    "        has_one_digit and \n",
    "        has_one_symbol): \n",
    "        fulfiled=True\n",
    "        return True\n",
    "    else:\n",
    "        return False    "
   ]
  },
  {
   "cell_type": "code",
   "execution_count": 2,
   "metadata": {},
   "outputs": [],
   "source": [
    "import random\n",
    "def generate_password():\n",
    "    letters=\"abcdefghijklmnopqrstuvwxyz\"\n",
    "    letters_upper=\"ABCDEFGHIJKLMNOPQRSTUVWXYZ\"\n",
    "    digits=\"0123456789\"\n",
    "    symbols=\"$%&=*!^\"\n",
    "    random_letters=random.sample(letters,2)\n",
    "    random_letters_upper=random.sample(letters_upper,2)\n",
    "    random_digits=random.sample(digits,2)\n",
    "    random_symbols=random.sample(symbols,2)\n",
    "    password=random_letters+random_letters_upper+random_digits+random_symbols\n",
    "    random.shuffle(password)\n",
    "    return \"\".join(password)"
   ]
  },
  {
   "cell_type": "markdown",
   "metadata": {},
   "source": [
    "### Main program"
   ]
  },
  {
   "cell_type": "markdown",
   "metadata": {},
   "source": [
    "Write a code that ask the user 4 times for a proper password and if no valid password is provided, then generate a random one.\n",
    "Use the functions defined above"
   ]
  },
  {
   "cell_type": "code",
   "execution_count": null,
   "metadata": {},
   "outputs": [],
   "source": []
  },
  {
   "cell_type": "code",
   "execution_count": null,
   "metadata": {},
   "outputs": [],
   "source": []
  },
  {
   "cell_type": "code",
   "execution_count": null,
   "metadata": {},
   "outputs": [],
   "source": []
  },
  {
   "cell_type": "code",
   "execution_count": null,
   "metadata": {},
   "outputs": [],
   "source": []
  },
  {
   "cell_type": "code",
   "execution_count": null,
   "metadata": {},
   "outputs": [],
   "source": []
  },
  {
   "cell_type": "code",
   "execution_count": null,
   "metadata": {},
   "outputs": [],
   "source": []
  },
  {
   "cell_type": "markdown",
   "metadata": {},
   "source": [
    "# Solution"
   ]
  },
  {
   "cell_type": "code",
   "execution_count": null,
   "metadata": {},
   "outputs": [],
   "source": [
    "print(\"Now chose a password that fits:\")\n",
    "print(\"    - length: 8\")\n",
    "print(\"    - at least 1 lower case\")\n",
    "print(\"    - at least 1 upper case\")\n",
    "print(\"    - at least 1 digit\")\n",
    "print(\"    - at least 1 symbol\")\n",
    "\n",
    "for i in range(1,4,1):\n",
    "    print(\"This is your try: \",i, \". You have \",3-i,\" remaining\")\n",
    "    password=input(\"Chose a 8 characters password: \")\n",
    "    if validate(password):\n",
    "        break\n",
    "else:\n",
    "    print(\"Your three attempts expired\")\n",
    "    password=generate_password()\n",
    "print(\"This is your new password: \", password)"
   ]
  }
 ],
 "metadata": {
  "kernelspec": {
   "display_name": "Python 3",
   "language": "python",
   "name": "python3"
  },
  "language_info": {
   "codemirror_mode": {
    "name": "ipython",
    "version": 3
   },
   "file_extension": ".py",
   "mimetype": "text/x-python",
   "name": "python",
   "nbconvert_exporter": "python",
   "pygments_lexer": "ipython3",
   "version": "3.8.8"
  }
 },
 "nbformat": 4,
 "nbformat_minor": 4
}
