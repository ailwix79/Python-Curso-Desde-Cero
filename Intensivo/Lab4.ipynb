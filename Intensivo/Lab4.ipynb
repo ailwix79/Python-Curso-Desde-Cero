{
 "cells": [
  {
   "cell_type": "markdown",
   "metadata": {},
   "source": [
    "# Lab4: Password Generator"
   ]
  },
  {
   "cell_type": "markdown",
   "metadata": {},
   "source": [
    "### Generate a 8-length password with at least 1 lower 1 upper 1 symbol and 1 digit \n",
    "\n",
    "Write a code that generates a random valid password using the random library. Consider using any of those methods:\n",
    "\n",
    "* random.randint - https://docs.python.org/3/library/random.html#random.randint\n",
    "* random.sample - https://docs.python.org/3/library/random.html#random.sample\n",
    "* random.shuffle - https://docs.python.org/3/library/random.html#random.shuffle"
   ]
  },
  {
   "cell_type": "code",
   "execution_count": null,
   "metadata": {},
   "outputs": [],
   "source": []
  },
  {
   "cell_type": "code",
   "execution_count": null,
   "metadata": {},
   "outputs": [],
   "source": []
  },
  {
   "cell_type": "code",
   "execution_count": null,
   "metadata": {},
   "outputs": [],
   "source": []
  },
  {
   "cell_type": "code",
   "execution_count": null,
   "metadata": {},
   "outputs": [],
   "source": []
  },
  {
   "cell_type": "markdown",
   "metadata": {},
   "source": [
    "# Solution"
   ]
  },
  {
   "cell_type": "code",
   "execution_count": 1,
   "metadata": {},
   "outputs": [
    {
     "name": "stdout",
     "output_type": "stream",
     "text": [
      "Now chose a password that fits:\n",
      "    - length: 8\n",
      "    - at least 1 lower case\n",
      "    - at least 1 upper case\n",
      "    - at least 1 digit\n",
      "    - at least 1 symbol\n",
      "Chose a 8 characters password: sssdfsdfsdfs\n",
      "- Wrong length\n",
      "- Right lower case\n",
      "- Wrong upper case\n",
      "- Wrong digits\n",
      "- Wrong symbols\n",
      "This is your new password:  K*Xyg28$\n"
     ]
    }
   ],
   "source": [
    "import random\n",
    "\n",
    "print(\"Now chose a password that fits:\")\n",
    "print(\"    - length: 8\")\n",
    "print(\"    - at least 1 lower case\")\n",
    "print(\"    - at least 1 upper case\")\n",
    "print(\"    - at least 1 digit\")\n",
    "print(\"    - at least 1 symbol\")\n",
    "\n",
    "fulfiled=False\n",
    "password=input(\"Chose a 8 characters password: \")\n",
    "has_right_length=len(password)==8\n",
    "has_one_lower_case= any([i.islower() for i in password])\n",
    "has_one_upper_case= any([i.isupper() for i in password])\n",
    "has_one_digit= any([i.isdigit() for i in password])\n",
    "has_one_symbol= any([not i.isdigit() and not i.islower() and not i.isupper() and not i.isspace() for i in password])\n",
    "\n",
    "if has_right_length: \n",
    "    print(\"- Right length\") \n",
    "else: \n",
    "    print (\"- Wrong length\")\n",
    "if has_one_lower_case: \n",
    "    print(\"- Right lower case\") \n",
    "else: \n",
    "    print (\"- Wrong lower case\")      \n",
    "if has_one_upper_case: \n",
    "    print(\"- Right upper case\")     \n",
    "else: \n",
    "    print (\"- Wrong upper case\")  \n",
    "if has_one_digit: \n",
    "    print(\"- Right digits\") \n",
    "else: \n",
    "    print (\"- Wrong digits\")  \n",
    "if has_one_symbol: \n",
    "    print(\"- Right symbols\") \n",
    "else: \n",
    "    print (\"- Wrong symbols\")  \n",
    "        \n",
    "if (has_right_length and \n",
    "    has_one_lower_case and\n",
    "    has_one_upper_case and\n",
    "    has_one_digit and\n",
    "    has_one_symbol): \n",
    "        fulfiled=True\n",
    "        \n",
    "if fulfiled==True:\n",
    "    print(\"Password chosen: \", password)\n",
    "else:\n",
    "    letters=\"abcdefghijklmnopqrstuvwxyz\"\n",
    "    letters_upper=\"ABCDEFGHIJKLMNOPQRSTUVWXYZ\"\n",
    "    digits=\"0123456789\"\n",
    "    symbols=\"$%&=*!^\"\n",
    "    random_letters=random.sample(letters,2)\n",
    "    random_letters_upper=random.sample(letters_upper,2)\n",
    "    random_digits=random.sample(digits,2)\n",
    "    random_symbols=random.sample(symbols,2)\n",
    "    password=random_letters+random_letters_upper+random_digits+random_symbols\n",
    "    random.shuffle(password)\n",
    "    print(\"This is your new password: \", \"\".join(password))"
   ]
  }
 ],
 "metadata": {
  "kernelspec": {
   "display_name": "Python 3",
   "language": "python",
   "name": "python3"
  },
  "language_info": {
   "codemirror_mode": {
    "name": "ipython",
    "version": 3
   },
   "file_extension": ".py",
   "mimetype": "text/x-python",
   "name": "python",
   "nbconvert_exporter": "python",
   "pygments_lexer": "ipython3",
   "version": "3.8.8"
  }
 },
 "nbformat": 4,
 "nbformat_minor": 4
}
