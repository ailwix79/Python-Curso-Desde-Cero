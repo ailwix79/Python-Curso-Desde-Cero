{
 "cells": [
  {
   "cell_type": "markdown",
   "metadata": {},
   "source": [
    "# Lab3: Password Validation"
   ]
  },
  {
   "cell_type": "markdown",
   "metadata": {},
   "source": [
    "### Ask the user for password"
   ]
  },
  {
   "cell_type": "code",
   "execution_count": 2,
   "metadata": {},
   "outputs": [
    {
     "name": "stdout",
     "output_type": "stream",
     "text": [
      "Chose a 8 characters password: Luis34$$\n"
     ]
    }
   ],
   "source": [
    "password=input(\"Chose a 8 characters password: \")"
   ]
  },
  {
   "cell_type": "markdown",
   "metadata": {},
   "source": [
    "### Define valid characters"
   ]
  },
  {
   "cell_type": "code",
   "execution_count": 3,
   "metadata": {},
   "outputs": [],
   "source": [
    "digits=\"0123456789\"\n",
    "charslower=\"abcdefghijklmnopqrstuvwxyz\"\n",
    "charsupper=\"ABCDEFGHIJKLMNOPQRSTUVWXYZ\""
   ]
  },
  {
   "cell_type": "markdown",
   "metadata": {},
   "source": [
    "### Verify length of the password"
   ]
  },
  {
   "cell_type": "code",
   "execution_count": 4,
   "metadata": {},
   "outputs": [],
   "source": [
    "has_right_length=len(password)==8"
   ]
  },
  {
   "cell_type": "markdown",
   "metadata": {},
   "source": [
    "### Verify if it has at least one digit"
   ]
  },
  {
   "cell_type": "code",
   "execution_count": 5,
   "metadata": {},
   "outputs": [],
   "source": [
    "has_one_digit=False\n",
    "for letra in password:\n",
    "    if letra in digits:\n",
    "        has_one_digit=True"
   ]
  },
  {
   "cell_type": "markdown",
   "metadata": {},
   "source": [
    "### Verify if it has at least one lower case"
   ]
  },
  {
   "cell_type": "code",
   "execution_count": 6,
   "metadata": {},
   "outputs": [],
   "source": [
    "has_one_lower=False\n",
    "for letra in password:\n",
    "    if letra in charslower:\n",
    "        has_one_lower=True"
   ]
  },
  {
   "cell_type": "markdown",
   "metadata": {},
   "source": [
    "### Verify if it has at least one upper case"
   ]
  },
  {
   "cell_type": "code",
   "execution_count": 7,
   "metadata": {},
   "outputs": [],
   "source": [
    "has_one_upper=False\n",
    "for letra in password:\n",
    "    if letra in charsupper:\n",
    "        has_one_upper=True"
   ]
  },
  {
   "cell_type": "markdown",
   "metadata": {},
   "source": [
    "### Verify if it has at least one symbol"
   ]
  },
  {
   "cell_type": "code",
   "execution_count": 8,
   "metadata": {},
   "outputs": [],
   "source": [
    "has_one_symbol=False\n",
    "for letra in password:\n",
    "    if letra not in digits and letra not in charslower and letra not in charsupper and letra !=\" \":\n",
    "        has_one_symbol=True"
   ]
  },
  {
   "cell_type": "markdown",
   "metadata": {},
   "source": [
    "### Check all conditions"
   ]
  },
  {
   "cell_type": "code",
   "execution_count": 9,
   "metadata": {},
   "outputs": [
    {
     "name": "stdout",
     "output_type": "stream",
     "text": [
      "Your password is correct\n"
     ]
    }
   ],
   "source": [
    "if has_right_length==True and \\\n",
    "    has_one_digit==True and   \\\n",
    "    has_one_lower==True and   \\\n",
    "    has_one_upper==True and   \\\n",
    "    has_one_symbol==True:\n",
    "        \n",
    "    print(\"Your password is correct\")\n",
    "else:\n",
    "    print(\"Wrong password\")"
   ]
  },
  {
   "cell_type": "markdown",
   "metadata": {},
   "source": [
    "# Solution 2"
   ]
  },
  {
   "cell_type": "code",
   "execution_count": 10,
   "metadata": {},
   "outputs": [
    {
     "name": "stdout",
     "output_type": "stream",
     "text": [
      "Chose a 8 characters password: Luis34$$\n",
      "- Right length\n",
      "- Right lower case\n",
      "- Right upper case\n",
      "- Right digits\n",
      "- Right symbols\n",
      "Password chosen:  Luis34$$\n"
     ]
    }
   ],
   "source": [
    "password=input(\"Chose a 8 characters password: \")\n",
    "\n",
    "has_right_length=len(password)==8\n",
    "has_one_lower_case= any([i.islower() for i in password])\n",
    "has_one_upper_case= any([i.isupper() for i in password])\n",
    "has_one_digit= any([i.isdigit() for i in password])\n",
    "has_one_symbol= any([not i.isdigit() and not i.islower() and not i.isupper() and not i.isspace() for i in password])\n",
    "\n",
    "if has_right_length: \n",
    "    print(\"- Right length\") \n",
    "else: \n",
    "    print (\"- Wrong length\")\n",
    "if has_one_lower_case: \n",
    "    print(\"- Right lower case\") \n",
    "else: \n",
    "    print (\"- Wrong lower case\")      \n",
    "if has_one_upper_case: \n",
    "    print(\"- Right upper case\")     \n",
    "else: \n",
    "    print (\"- Wrong upper case\")  \n",
    "if has_one_digit: \n",
    "    print(\"- Right digits\") \n",
    "else: \n",
    "    print (\"- Wrong digits\")  \n",
    "if has_one_symbol: \n",
    "    print(\"- Right symbols\") \n",
    "else: \n",
    "    print (\"- Wrong symbols\")  \n",
    "\n",
    "if (has_right_length and \n",
    "    has_one_lower_case and\n",
    "    has_one_upper_case and\n",
    "    has_one_digit and\n",
    "    has_one_symbol): \n",
    "        fulfiled=True\n",
    "\n",
    "if fulfiled==True:\n",
    "    print(\"Password chosen: \", password)"
   ]
  }
 ],
 "metadata": {
  "kernelspec": {
   "display_name": "Python 3",
   "language": "python",
   "name": "python3"
  },
  "language_info": {
   "codemirror_mode": {
    "name": "ipython",
    "version": 3
   },
   "file_extension": ".py",
   "mimetype": "text/x-python",
   "name": "python",
   "nbconvert_exporter": "python",
   "pygments_lexer": "ipython3",
   "version": "3.8.8"
  }
 },
 "nbformat": 4,
 "nbformat_minor": 4
}
