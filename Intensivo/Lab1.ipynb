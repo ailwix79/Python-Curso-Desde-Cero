{
 "cells": [
  {
   "cell_type": "markdown",
   "id": "5585d388",
   "metadata": {},
   "source": [
    "# Lab 1"
   ]
  },
  {
   "cell_type": "markdown",
   "id": "4f1555f1",
   "metadata": {},
   "source": [
    "### Import the libraries"
   ]
  },
  {
   "cell_type": "code",
   "execution_count": 1,
   "id": "3c44cceb",
   "metadata": {},
   "outputs": [],
   "source": [
    "import numpy as np\n",
    "import matplotlib.pyplot as plt\n",
    "%matplotlib inline"
   ]
  },
  {
   "cell_type": "markdown",
   "id": "a41601b7",
   "metadata": {},
   "source": [
    "### Ask the user for a value"
   ]
  },
  {
   "cell_type": "code",
   "execution_count": 2,
   "id": "41db7d58",
   "metadata": {},
   "outputs": [
    {
     "name": "stdout",
     "output_type": "stream",
     "text": [
      "Por favor introduzca un valor para el radio: 10\n"
     ]
    }
   ],
   "source": [
    "radius=float(input(\"Por favor introduzca un valor para el radio: \"))"
   ]
  },
  {
   "cell_type": "markdown",
   "id": "91a3e668",
   "metadata": {},
   "source": [
    "### Compute the Area and Perimeter"
   ]
  },
  {
   "cell_type": "code",
   "execution_count": 3,
   "id": "109004df",
   "metadata": {},
   "outputs": [],
   "source": [
    "pi=np.pi\n",
    "area = pi*radius**2\n",
    "perimeter = 2*pi*radius"
   ]
  },
  {
   "cell_type": "markdown",
   "id": "18e8f4e2",
   "metadata": {},
   "source": [
    "### Create the axis"
   ]
  },
  {
   "cell_type": "code",
   "execution_count": 4,
   "id": "80e85695",
   "metadata": {},
   "outputs": [],
   "source": [
    "x = np.linspace(-radius, radius, 100)\n",
    "y1 = np.sqrt(radius**2-x**2)\n",
    "y2 = -np.sqrt(radius**2-x**2)"
   ]
  },
  {
   "cell_type": "markdown",
   "id": "778bcfc6",
   "metadata": {},
   "source": [
    "### Plot the figure"
   ]
  },
  {
   "cell_type": "code",
   "execution_count": 5,
   "id": "3581e1a9",
   "metadata": {},
   "outputs": [
    {
     "data": {
      "image/png": "[encoded data removed]",
      "text/plain": [
       "<Figure size 432x288 with 1 Axes>"
      ]
     },
     "metadata": {
      "needs_background": "light"
     },
     "output_type": "display_data"
    }
   ],
   "source": [
    "plt.stem(x,y1,use_line_collection=True)\n",
    "plt.stem(x,y2,use_line_collection=True)\n",
    "plt.title(\"Circle with area %.2f and perimeter %.2f\" % (area,perimeter))\n",
    "plt.show()"
   ]
  }
 ],
 "metadata": {
  "kernelspec": {
   "display_name": "Python 3",
   "language": "python",
   "name": "python3"
  },
  "language_info": {
   "codemirror_mode": {
    "name": "ipython",
    "version": 3
   },
   "file_extension": ".py",
   "mimetype": "text/x-python",
   "name": "python",
   "nbconvert_exporter": "python",
   "pygments_lexer": "ipython3",
   "version": "3.8.8"
  }
 },
 "nbformat": 4,
 "nbformat_minor": 5
}
