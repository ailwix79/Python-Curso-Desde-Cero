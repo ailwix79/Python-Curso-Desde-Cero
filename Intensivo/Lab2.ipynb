{
 "cells": [
  {
   "cell_type": "markdown",
   "metadata": {},
   "source": [
    "# Lab2: Hands on lists"
   ]
  },
  {
   "cell_type": "markdown",
   "metadata": {},
   "source": [
    "### append"
   ]
  },
  {
   "cell_type": "code",
   "execution_count": 4,
   "metadata": {},
   "outputs": [
    {
     "name": "stdout",
     "output_type": "stream",
     "text": [
      "Appended sequence:  ['banana', 'apple', 'watermelon', 'strawberry', 'pineapple']\n"
     ]
    }
   ],
   "source": [
    "sequence=[\"banana\",\"apple\",\"watermelon\",\"strawberry\"]\n",
    "sequence.append(\"pineapple\")\n",
    "print(\"Appended sequence: \",sequence)"
   ]
  },
  {
   "cell_type": "markdown",
   "metadata": {},
   "source": [
    "### extend"
   ]
  },
  {
   "cell_type": "code",
   "execution_count": 5,
   "metadata": {},
   "outputs": [
    {
     "name": "stdout",
     "output_type": "stream",
     "text": [
      "Extended sequence:  ['banana', 'apple', 'watermelon', 'strawberry', 'orange', 'pineaple', 'melon']\n"
     ]
    }
   ],
   "source": [
    "sequence=[\"banana\",\"apple\",\"watermelon\",\"strawberry\"]\n",
    "sequence.extend([\"orange\",\"pineaple\",\"melon\"])\n",
    "print(\"Extended sequence: \",sequence)"
   ]
  },
  {
   "cell_type": "markdown",
   "metadata": {},
   "source": [
    "### insert and remove"
   ]
  },
  {
   "cell_type": "code",
   "execution_count": 6,
   "metadata": {},
   "outputs": [
    {
     "name": "stdout",
     "output_type": "stream",
     "text": [
      "Inserted sequence:  ['banana', 'melon', 'apple', 'watermelon', 'strawberry']\n",
      "Removed one element sequence:  ['banana', 'melon', 'apple', 'watermelon']\n"
     ]
    }
   ],
   "source": [
    "sequence=[\"banana\",\"apple\",\"watermelon\",\"strawberry\"]\n",
    "sequence.insert(1,\"melon\")\n",
    "print(\"Inserted sequence: \",sequence)\n",
    "sequence.remove(\"strawberry\")\n",
    "print(\"Removed one element sequence: \",sequence)"
   ]
  },
  {
   "cell_type": "markdown",
   "metadata": {},
   "source": [
    "### sort"
   ]
  },
  {
   "cell_type": "code",
   "execution_count": 7,
   "metadata": {},
   "outputs": [
    {
     "name": "stdout",
     "output_type": "stream",
     "text": [
      "Sequence ordered ['apple', 'banana', 'strawberry', 'watermelon']\n",
      "Sequence reversed ['watermelon', 'strawberry', 'banana', 'apple']\n"
     ]
    }
   ],
   "source": [
    "sequence=[\"banana\",\"apple\",\"watermelon\",\"strawberry\"]\n",
    "sequence.sort()\n",
    "print(\"Sequence ordered\",sequence)\n",
    "sequence.sort(reverse=True)\n",
    "print(\"Sequence reversed\",sequence)"
   ]
  },
  {
   "cell_type": "markdown",
   "metadata": {},
   "source": [
    "### reverse"
   ]
  },
  {
   "cell_type": "code",
   "execution_count": 8,
   "metadata": {},
   "outputs": [
    {
     "name": "stdout",
     "output_type": "stream",
     "text": [
      "Reversed sequence:  ['strawberry', 'watermelon', 'apple', 'banana']\n"
     ]
    }
   ],
   "source": [
    "sequence=[\"banana\",\"apple\",\"watermelon\",\"strawberry\"]\n",
    "sequence.reverse()\n",
    "print(\"Reversed sequence: \",sequence)"
   ]
  },
  {
   "cell_type": "markdown",
   "metadata": {},
   "source": [
    "### count"
   ]
  },
  {
   "cell_type": "code",
   "execution_count": 9,
   "metadata": {},
   "outputs": [
    {
     "data": {
      "text/plain": [
       "2"
      ]
     },
     "execution_count": 9,
     "metadata": {},
     "output_type": "execute_result"
    }
   ],
   "source": [
    "sequence=[\"banana\",\"apple\",\"watermelon\",\"strawberry\",\"apple\"]\n",
    "sequence.count(\"apple\")"
   ]
  },
  {
   "cell_type": "markdown",
   "metadata": {},
   "source": [
    "### pop "
   ]
  },
  {
   "cell_type": "code",
   "execution_count": 10,
   "metadata": {},
   "outputs": [
    {
     "name": "stdout",
     "output_type": "stream",
     "text": [
      "apple\n",
      "['banana', 'apple', 'watermelon', 'strawberry']\n"
     ]
    }
   ],
   "source": [
    "sequence=[\"banana\",\"apple\",\"watermelon\",\"strawberry\",\"apple\"]\n",
    "last=sequence.pop()\n",
    "print(last)\n",
    "print(sequence)"
   ]
  },
  {
   "cell_type": "markdown",
   "metadata": {},
   "source": [
    "### index"
   ]
  },
  {
   "cell_type": "code",
   "execution_count": null,
   "metadata": {},
   "outputs": [],
   "source": [
    "sequence=[\"banana\",\"apple\",\"watermelon\",\"strawberry\",\"apple\"]\n",
    "index=sequence.index(\"watermelon\")\n",
    "print(index)\n",
    "index2=sequence.index(\"apple\")\n",
    "print(index2)"
   ]
  },
  {
   "cell_type": "markdown",
   "metadata": {},
   "source": [
    "### Make a code that aks the user for a String, a Int, a Float and a Boolean and insert all of them in a list"
   ]
  },
  {
   "cell_type": "code",
   "execution_count": null,
   "metadata": {},
   "outputs": [],
   "source": []
  },
  {
   "cell_type": "code",
   "execution_count": null,
   "metadata": {},
   "outputs": [],
   "source": []
  },
  {
   "cell_type": "code",
   "execution_count": null,
   "metadata": {},
   "outputs": [],
   "source": []
  }
 ],
 "metadata": {
  "kernelspec": {
   "display_name": "Python 3",
   "language": "python",
   "name": "python3"
  },
  "language_info": {
   "codemirror_mode": {
    "name": "ipython",
    "version": 3
   },
   "file_extension": ".py",
   "mimetype": "text/x-python",
   "name": "python",
   "nbconvert_exporter": "python",
   "pygments_lexer": "ipython3",
   "version": "3.8.8"
  }
 },
 "nbformat": 4,
 "nbformat_minor": 4
}
