{
 "cells": [
  {
   "cell_type": "markdown",
   "metadata": {},
   "source": [
    "# Iterations"
   ]
  },
  {
   "cell_type": "markdown",
   "metadata": {},
   "source": [
    "## For Loops"
   ]
  },
  {
   "cell_type": "markdown",
   "metadata": {},
   "source": [
    "### Across ranges"
   ]
  },
  {
   "cell_type": "code",
   "execution_count": 1,
   "metadata": {},
   "outputs": [
    {
     "name": "stdout",
     "output_type": "stream",
     "text": [
      "From 0 to 10 with step=2\n",
      "0\n",
      "2\n",
      "4\n",
      "6\n",
      "8\n"
     ]
    }
   ],
   "source": [
    "print(\"From 0 to 10 with step=2\")\n",
    "for i in range(0,10,2):\n",
    "    print(i)"
   ]
  },
  {
   "cell_type": "code",
   "execution_count": 4,
   "metadata": {
    "scrolled": true
   },
   "outputs": [
    {
     "name": "stdout",
     "output_type": "stream",
     "text": [
      "Range of 5 elements from 0 to 10\n",
      "0.0\n",
      "2.5\n",
      "5.0\n",
      "7.5\n",
      "10.0\n"
     ]
    }
   ],
   "source": [
    "import numpy as np\n",
    "print(\"Range of 5 elements from 0 to 10\")\n",
    "for i in np.linspace(0,10,5):\n",
    "    print(i)"
   ]
  },
  {
   "cell_type": "markdown",
   "metadata": {},
   "source": [
    "Very usefull to create indexes and access the elements of lists by their position"
   ]
  },
  {
   "cell_type": "code",
   "execution_count": 3,
   "metadata": {},
   "outputs": [
    {
     "name": "stdout",
     "output_type": "stream",
     "text": [
      "Element 0: 2\n",
      "Element 1: 4\n",
      "Element 2: 6\n",
      "Element 3: 8\n",
      "Element 4: 10\n"
     ]
    }
   ],
   "source": [
    "vector=[2,4,6,8,10]\n",
    "for i in range(len(vector)):\n",
    "    print(\"Element {}: {}\".format(i,vector[i]))"
   ]
  },
  {
   "cell_type": "markdown",
   "metadata": {},
   "source": [
    "### Across lists"
   ]
  },
  {
   "cell_type": "markdown",
   "metadata": {},
   "source": [
    "Directly without using indexes"
   ]
  },
  {
   "cell_type": "code",
   "execution_count": 4,
   "metadata": {},
   "outputs": [
    {
     "name": "stdout",
     "output_type": "stream",
     "text": [
      "1\n",
      "2\n",
      "6\n",
      "24\n",
      "120\n",
      "720\n"
     ]
    }
   ],
   "source": [
    "prod=1\n",
    "for i in [1,2,3,4,5,6]:\n",
    "    prod = prod*i\n",
    "    print(prod)"
   ]
  },
  {
   "cell_type": "markdown",
   "metadata": {},
   "source": [
    "### Across strings"
   ]
  },
  {
   "cell_type": "markdown",
   "metadata": {},
   "source": [
    "Directly without using indexes"
   ]
  },
  {
   "cell_type": "code",
   "execution_count": 5,
   "metadata": {},
   "outputs": [
    {
     "name": "stdout",
     "output_type": "stream",
     "text": [
      "K_i_n_e_s_i_o_t_h_e_r_a_p_y_"
     ]
    }
   ],
   "source": [
    "for letter in \"Kinesiotherapy\":\n",
    "    print(letter,end='_')"
   ]
  },
  {
   "cell_type": "markdown",
   "metadata": {},
   "source": [
    "Or with Indexes"
   ]
  },
  {
   "cell_type": "code",
   "execution_count": 1,
   "metadata": {},
   "outputs": [
    {
     "name": "stdout",
     "output_type": "stream",
     "text": [
      "K_i_n_e_s_i_o_t_h_e_r_a_p_y_"
     ]
    }
   ],
   "source": [
    "word=\"Kinesiotherapy\"\n",
    "for index in range(len(word)):\n",
    "    print(word[index],end='_')"
   ]
  },
  {
   "cell_type": "markdown",
   "metadata": {},
   "source": [
    "### Across list of tuples"
   ]
  },
  {
   "cell_type": "markdown",
   "metadata": {},
   "source": [
    "accessing directly the elements of the tuple with two variables"
   ]
  },
  {
   "cell_type": "code",
   "execution_count": 6,
   "metadata": {
    "scrolled": true
   },
   "outputs": [
    {
     "name": "stdout",
     "output_type": "stream",
     "text": [
      "uno  is  1\n",
      "dos  is  2\n",
      "tres  is  3\n",
      "cuatro  is  4\n",
      "cinco  is  5\n"
     ]
    }
   ],
   "source": [
    "list_of_tuples=[(\"uno\",1),(\"dos\",2),(\"tres\",3),(\"cuatro\",4),(\"cinco\",5)]\n",
    "for k,v in list_of_tuples:\n",
    "    print(k,\" is \",v)"
   ]
  },
  {
   "cell_type": "markdown",
   "metadata": {},
   "source": [
    "### Across dictionaries"
   ]
  },
  {
   "cell_type": "markdown",
   "metadata": {},
   "source": [
    "accessing directly the key and the value with two variables"
   ]
  },
  {
   "cell_type": "code",
   "execution_count": 7,
   "metadata": {},
   "outputs": [
    {
     "name": "stdout",
     "output_type": "stream",
     "text": [
      "Teo  has the rol of  admin\n",
      "Liam  has the rol of  viewer\n",
      "Dora  has the rol of  root\n",
      "Noa  has the rol of  viewer\n",
      "Cris  has the rol of  Viewer\n"
     ]
    }
   ],
   "source": [
    "dictionary={\"Teo\":\"admin\",\"Liam\":\"viewer\",\"Dora\":\"root\",\"Noa\":\"viewer\",\"Cris\":\"Viewer\"}\n",
    "\n",
    "for k,v in dictionary.items():\n",
    "    print(k,\" has the rol of \",v)"
   ]
  },
  {
   "cell_type": "code",
   "execution_count": 8,
   "metadata": {},
   "outputs": [
    {
     "name": "stdout",
     "output_type": "stream",
     "text": [
      "Key:  Teo\n",
      "Key:  Liam\n",
      "Key:  Dora\n",
      "Key:  Noa\n",
      "Key:  Cris\n",
      "Value:  admin\n",
      "Value:  viewer\n",
      "Value:  root\n",
      "Value:  viewer\n",
      "Value:  Viewer\n"
     ]
    }
   ],
   "source": [
    "for k in dictionary.keys():\n",
    "    print(\"Key: \",k)\n",
    "    \n",
    "for v in dictionary.values():\n",
    "    print(\"Value: \",v)"
   ]
  },
  {
   "cell_type": "markdown",
   "metadata": {},
   "source": [
    "### Nested loops"
   ]
  },
  {
   "cell_type": "code",
   "execution_count": 10,
   "metadata": {},
   "outputs": [
    {
     "name": "stdout",
     "output_type": "stream",
     "text": [
      "[[1 2 3]\n",
      " [4 5 6]\n",
      " [6 7 8]]\n",
      "Numpy arrays can be accessed as A[row,col]\n",
      "Array element [0,0]  value:  1\n",
      "Array element [0,1]  value:  2\n",
      "Array element [0,2]  value:  3\n",
      "Array element [1,0]  value:  4\n",
      "Array element [1,1]  value:  5\n",
      "Array element [1,2]  value:  6\n",
      "Array element [2,0]  value:  6\n",
      "Array element [2,1]  value:  7\n",
      "Array element [2,2]  value:  8\n"
     ]
    }
   ],
   "source": [
    "import numpy as np\n",
    "array = np.array([(1,2,3),(4,5,6),(6,7,8)])\n",
    "print(array)\n",
    "print(\"Numpy arrays can be accessed as A[row,col]\")\n",
    "rows,cols=array.shape\n",
    "\n",
    "for r in range(rows):\n",
    "    for c in range(cols):\n",
    "        print(\"Array element [{},{}]\".format(r,c),\" value: \",array[r,c])"
   ]
  },
  {
   "cell_type": "markdown",
   "metadata": {},
   "source": [
    "### For loops with BREAK"
   ]
  },
  {
   "cell_type": "code",
   "execution_count": 11,
   "metadata": {},
   "outputs": [
    {
     "name": "stdout",
     "output_type": "stream",
     "text": [
      "4 equals 2 * 2.0\n",
      "6 equals 2 * 3.0\n",
      "8 equals 2 * 4.0\n",
      "9 equals 3 * 3.0\n",
      "10 equals 2 * 5.0\n",
      "12 equals 2 * 6.0\n",
      "14 equals 2 * 7.0\n",
      "15 equals 3 * 5.0\n",
      "16 equals 2 * 8.0\n",
      "18 equals 2 * 9.0\n"
     ]
    }
   ],
   "source": [
    "for n in range(2, 20):\n",
    "    for x in range(2, n):\n",
    "        if n % x == 0:\n",
    "            print(n, 'equals', x, '*', n/x)\n",
    "            break"
   ]
  },
  {
   "cell_type": "markdown",
   "metadata": {},
   "source": [
    "## WHILE loops"
   ]
  },
  {
   "cell_type": "markdown",
   "metadata": {},
   "source": [
    "### Simple loops"
   ]
  },
  {
   "cell_type": "code",
   "execution_count": 13,
   "metadata": {},
   "outputs": [
    {
     "name": "stdout",
     "output_type": "stream",
     "text": [
      "Write exit to abort: exit\n",
      "EXIT!\n"
     ]
    }
   ],
   "source": [
    "stay=True\n",
    "while stay==True:\n",
    "    command=input(\"Write exit to abort: \")\n",
    "    if command==\"exit\": stay=False\n",
    "print(\"EXIT!\")"
   ]
  },
  {
   "cell_type": "markdown",
   "metadata": {},
   "source": [
    "### While on strings"
   ]
  },
  {
   "cell_type": "markdown",
   "metadata": {},
   "source": [
    "**¡¡¡¡Runnig this cell will need to restart the Kernel!!!**\n",
    "\n",
    "Because it implements an infinite loop"
   ]
  },
  {
   "cell_type": "code",
   "execution_count": null,
   "metadata": {
    "scrolled": false
   },
   "outputs": [],
   "source": [
    "x= \"Kinesiotherapy\"\n",
    "while x:\n",
    "    print(x)"
   ]
  },
  {
   "cell_type": "markdown",
   "metadata": {},
   "source": [
    "Running this cell is safe.\n",
    "\n",
    "Note the differences"
   ]
  },
  {
   "cell_type": "code",
   "execution_count": 14,
   "metadata": {},
   "outputs": [
    {
     "name": "stdout",
     "output_type": "stream",
     "text": [
      "Kinesiotherapy\n",
      "inesiotherapy\n",
      "nesiotherapy\n",
      "esiotherapy\n",
      "siotherapy\n",
      "iotherapy\n",
      "otherapy\n",
      "therapy\n",
      "herapy\n",
      "erapy\n",
      "rapy\n",
      "apy\n",
      "py\n",
      "y\n"
     ]
    }
   ],
   "source": [
    "x= \"Kinesiotherapy\"\n",
    "while x:\n",
    "    print(x)\n",
    "    x=x[1:]"
   ]
  },
  {
   "cell_type": "markdown",
   "metadata": {},
   "source": [
    "### While with comparision operators"
   ]
  },
  {
   "cell_type": "code",
   "execution_count": 2,
   "metadata": {},
   "outputs": [
    {
     "name": "stdout",
     "output_type": "stream",
     "text": [
      "I payed  10000 € to buy  1000  stocks\n",
      "I accept to lose 1000€ maximum\n"
     ]
    }
   ],
   "source": [
    "stocks = 1000\n",
    "stock_price = 10\n",
    "losts = 0\n",
    "threshold = 1000\n",
    "\n",
    "print(\"I payed \",stocks*stock_price, \"€ to buy \", stocks, \" stocks\")\n",
    "print(\"I accept to lose 1000€ maximum\")"
   ]
  },
  {
   "cell_type": "code",
   "execution_count": 5,
   "metadata": {},
   "outputs": [
    {
     "name": "stdout",
     "output_type": "stream",
     "text": [
      "New day, stock price:  9.459547752648902\n",
      "Losts:  540.4522473510988\n",
      "New day, stock price:  10.753749015993716\n",
      "Gains:  753.7490159937151\n",
      "New day, stock price:  11.130243561234616\n",
      "Gains:  1130.2435612346162\n",
      "New day, stock price:  10.621679563207985\n",
      "Gains:  621.6795632079848\n",
      "New day, stock price:  10.075283176627025\n",
      "Gains:  75.28317662702466\n",
      "New day, stock price:  11.59134387150141\n",
      "Gains:  1591.343871501409\n",
      "New day, stock price:  11.288471119832497\n",
      "Gains:  1288.4711198324967\n",
      "New day, stock price:  8.965998836007813\n",
      "Losts:  1034.0011639921868\n"
     ]
    }
   ],
   "source": [
    "while losts < threshold:\n",
    "    new_price = np.random.normal(10, 1, 1)[0]\n",
    "    print(\"New day, stock price: \",new_price)\n",
    "    losts = 10000 - stocks*new_price\n",
    "    if losts >=0: \n",
    "        print(\"Losts: \",losts)\n",
    "    else: \n",
    "        print(\"Gains: \",-losts)\n",
    "    "
   ]
  },
  {
   "cell_type": "markdown",
   "metadata": {},
   "source": [
    "### While loops with break, continue"
   ]
  },
  {
   "cell_type": "markdown",
   "metadata": {},
   "source": [
    "This code will find the largest factor for a number \"y\". If no factor is found, then it means its a prime number"
   ]
  },
  {
   "cell_type": "code",
   "execution_count": 7,
   "metadata": {},
   "outputs": [
    {
     "name": "stdout",
     "output_type": "stream",
     "text": [
      "199 is prime\n"
     ]
    }
   ],
   "source": [
    "y=198\n",
    "x = y-1\n",
    "while x > 1:\n",
    "    if y % x == 0:                   \n",
    "        print(y, 'has factor', x)\n",
    "        break\n",
    "    x -= 1\n",
    "if x==1:\n",
    "    print(y, 'is prime')"
   ]
  },
  {
   "cell_type": "markdown",
   "metadata": {},
   "source": [
    "This code finds even numbers. \n",
    "\n",
    "If the number iterated is odd, then the \"continue\" statements returns to the head of the block without printing"
   ]
  },
  {
   "cell_type": "code",
   "execution_count": 18,
   "metadata": {},
   "outputs": [
    {
     "name": "stdout",
     "output_type": "stream",
     "text": [
      "2 4 6 8 10 12 14 16 18 20 22 24 26 28 30 32 34 36 38 40 42 44 46 48 50 52 54 56 58 60 62 64 66 68 70 72 74 76 78 80 82 84 86 88 90 92 94 96 98 100 "
     ]
    }
   ],
   "source": [
    "x = 1\n",
    "while x:\n",
    "    x=x+1                     \n",
    "    if x % 2 != 0: continue\n",
    "    print(x, end=' ')\n",
    "    if x == 100: break"
   ]
  },
  {
   "cell_type": "markdown",
   "metadata": {},
   "source": [
    "Many loops can be implemented also with for statement"
   ]
  },
  {
   "cell_type": "code",
   "execution_count": 19,
   "metadata": {},
   "outputs": [
    {
     "name": "stdout",
     "output_type": "stream",
     "text": [
      "2 4 6 8 10 12 14 16 18 20 22 24 26 28 30 32 34 36 38 40 42 44 46 48 50 52 54 56 58 60 62 64 66 68 70 72 74 76 78 80 82 84 86 88 90 92 94 96 98 "
     ]
    }
   ],
   "source": [
    "for x in range(1,100,1):              \n",
    "    if x % 2 != 0: continue\n",
    "    print(x, end=' ')"
   ]
  },
  {
   "cell_type": "markdown",
   "metadata": {},
   "source": [
    "## List Comprehensions"
   ]
  },
  {
   "cell_type": "markdown",
   "metadata": {},
   "source": [
    "### Easy examples"
   ]
  },
  {
   "cell_type": "code",
   "execution_count": 21,
   "metadata": {},
   "outputs": [
    {
     "data": {
      "text/plain": [
       "['C', 'H', 'A', 'N', 'G', 'E', ' ', 'C', 'A', 'S', 'E']"
      ]
     },
     "execution_count": 21,
     "metadata": {},
     "output_type": "execute_result"
    }
   ],
   "source": [
    "[x.upper() for x in \"change case\"]"
   ]
  },
  {
   "cell_type": "code",
   "execution_count": 22,
   "metadata": {},
   "outputs": [
    {
     "data": {
      "text/plain": [
       "['N', 'W', 'W', 'T', 'H', 'N', 'U', 'M', 'B', 'R', 'S']"
      ]
     },
     "execution_count": 22,
     "metadata": {},
     "output_type": "execute_result"
    }
   ],
   "source": [
    "[x.upper() for x in \"n0w w1th numb3rs\" if x.islower()]"
   ]
  },
  {
   "cell_type": "code",
   "execution_count": 23,
   "metadata": {},
   "outputs": [
    {
     "data": {
      "text/plain": [
       "['Even: 0', 'Even: 2', 'Even: 4', 'Even: 6', 'Even: 8', 'Even: 10']"
      ]
     },
     "execution_count": 23,
     "metadata": {},
     "output_type": "execute_result"
    }
   ],
   "source": [
    "sequence=[0,1,2,3,4,5,6,7,8,9,10]\n",
    "\n",
    "[\"Even: \"+str(x) for x in sequence if x%2==0]"
   ]
  },
  {
   "cell_type": "markdown",
   "metadata": {},
   "source": [
    "#### Be aware that a list is always returned, even if it's empty"
   ]
  },
  {
   "cell_type": "code",
   "execution_count": 24,
   "metadata": {},
   "outputs": [
    {
     "name": "stdout",
     "output_type": "stream",
     "text": [
      "Even: 0\n",
      "Even: 2\n",
      "Even: 4\n",
      "Even: 6\n",
      "Even: 8\n",
      "Even: 10\n"
     ]
    },
    {
     "data": {
      "text/plain": [
       "[None, None, None, None, None, None]"
      ]
     },
     "execution_count": 24,
     "metadata": {},
     "output_type": "execute_result"
    }
   ],
   "source": [
    "sequence=[0,1,2,3,4,5,6,7,8,9,10]\n",
    "\n",
    "[print(\"Even: \"+str(x)) for x in sequence if x%2==0]"
   ]
  },
  {
   "cell_type": "markdown",
   "metadata": {},
   "source": [
    "#### Tuples and dictionaries are also collections to be used with list comprehensions"
   ]
  },
  {
   "cell_type": "code",
   "execution_count": 25,
   "metadata": {},
   "outputs": [
    {
     "data": {
      "text/plain": [
       "['BLOWFISH', 'CLOWNFISH', 'CATFISH']"
      ]
     },
     "execution_count": 25,
     "metadata": {},
     "output_type": "execute_result"
    }
   ],
   "source": [
    "sequence=('blowfish', 'clownfish', 'catfish', 'octopus')\n",
    "\n",
    "[x.upper() for x in sequence if \"fish\" in x]"
   ]
  },
  {
   "cell_type": "code",
   "execution_count": 26,
   "metadata": {},
   "outputs": [
    {
     "data": {
      "text/plain": [
       "['Hola', 'Adios']"
      ]
     },
     "execution_count": 26,
     "metadata": {},
     "output_type": "execute_result"
    }
   ],
   "source": [
    "dictionary={\"Hola\":\"spanish\",\"Bonjour\":\"french\",\"Hello\":\"english\",\n",
    "            \"Adios\":\"spanish\",\"Au revoir\":\"french\",\"Bye\":\"english\"}\n",
    "\n",
    "[k for k,v in dictionary.items() if v==\"spanish\" ]"
   ]
  },
  {
   "cell_type": "markdown",
   "metadata": {},
   "source": [
    "### Medium examples"
   ]
  },
  {
   "cell_type": "markdown",
   "metadata": {},
   "source": [
    "#### Nested For Loops"
   ]
  },
  {
   "cell_type": "code",
   "execution_count": 27,
   "metadata": {},
   "outputs": [
    {
     "name": "stdout",
     "output_type": "stream",
     "text": [
      "[40, 80, 120, 80, 160, 240, 120, 240, 360]\n"
     ]
    }
   ],
   "source": [
    "my_list = []\n",
    "\n",
    "for x in [20, 40, 60]:\n",
    "    for y in [2, 4, 6]:\n",
    "        my_list.append(x * y)\n",
    "\n",
    "print(my_list)"
   ]
  },
  {
   "cell_type": "code",
   "execution_count": 28,
   "metadata": {},
   "outputs": [
    {
     "data": {
      "text/plain": [
       "[40, 80, 120, 80, 160, 240, 120, 240, 360]"
      ]
     },
     "execution_count": 28,
     "metadata": {},
     "output_type": "execute_result"
    }
   ],
   "source": [
    "my_list = [x * y for x in [20, 40, 60] for y in [2, 4, 6]]\n",
    "my_list"
   ]
  },
  {
   "cell_type": "markdown",
   "metadata": {},
   "source": [
    "#### Flat map list of list"
   ]
  },
  {
   "cell_type": "code",
   "execution_count": 29,
   "metadata": {},
   "outputs": [
    {
     "data": {
      "text/plain": [
       "[1, 2, 3, 4, 5, 6, 7, 8, 9]"
      ]
     },
     "execution_count": 29,
     "metadata": {},
     "output_type": "execute_result"
    }
   ],
   "source": [
    "list_of_list=[[1, 2, 3], [4, 5, 6], [7], [8, 9]]\n",
    "\n",
    "flat_list = []\n",
    "for sublist in list_of_list:\n",
    "    for item in sublist:\n",
    "        flat_list.append(item)\n",
    "        \n",
    "flat_list"
   ]
  },
  {
   "cell_type": "code",
   "execution_count": 30,
   "metadata": {},
   "outputs": [
    {
     "data": {
      "text/plain": [
       "[1, 2, 3, 4, 5, 6, 7, 8, 9]"
      ]
     },
     "execution_count": 30,
     "metadata": {},
     "output_type": "execute_result"
    }
   ],
   "source": [
    "flat_list = [item for sublist in list_of_list for item in sublist]\n",
    "flat_list"
   ]
  },
  {
   "cell_type": "markdown",
   "metadata": {},
   "source": [
    "#### Nested If"
   ]
  },
  {
   "cell_type": "code",
   "execution_count": 31,
   "metadata": {},
   "outputs": [
    {
     "name": "stdout",
     "output_type": "stream",
     "text": [
      "List of 3 and 5 multiples\n",
      "[0, 15, 30, 45, 60, 75, 90]\n"
     ]
    }
   ],
   "source": [
    "number_list=[]\n",
    "for x in range(100):\n",
    "    if x % 3 == 0 :\n",
    "        if x % 5 == 0 :\n",
    "            number_list.append(x)\n",
    "print(\"List of 3 and 5 multiples\")\n",
    "print(number_list)"
   ]
  },
  {
   "cell_type": "code",
   "execution_count": 32,
   "metadata": {},
   "outputs": [
    {
     "name": "stdout",
     "output_type": "stream",
     "text": [
      "List of 3 and 5 multiples\n",
      "[0, 15, 30, 45, 60, 75, 90]\n"
     ]
    }
   ],
   "source": [
    "number_list = [x for x in range(100) if x % 3 == 0 and x % 5 == 0]\n",
    "print(\"List of 3 and 5 multiples\")\n",
    "print(number_list)"
   ]
  },
  {
   "cell_type": "markdown",
   "metadata": {},
   "source": [
    "### Hard examples"
   ]
  },
  {
   "cell_type": "markdown",
   "metadata": {},
   "source": [
    "#### Create a diagonal matrix"
   ]
  },
  {
   "cell_type": "code",
   "execution_count": 33,
   "metadata": {},
   "outputs": [
    {
     "data": {
      "text/plain": [
       "[[1, 0, 0], [0, 1, 0], [0, 0, 1]]"
      ]
     },
     "execution_count": 33,
     "metadata": {},
     "output_type": "execute_result"
    }
   ],
   "source": [
    "matrix=[[0,0,0],[0,0,0],[0,0,0]]\n",
    "for row_idx in range(0, 3):\n",
    "    for item_idx in range(0, 3):\n",
    "        if item_idx == row_idx :\n",
    "            matrix[row_idx][item_idx]=1\n",
    "        else:\n",
    "            matrix[row_idx][item_idx]=0\n",
    "\n",
    "matrix"
   ]
  },
  {
   "cell_type": "code",
   "execution_count": 34,
   "metadata": {},
   "outputs": [
    {
     "data": {
      "text/plain": [
       "[[1, 0, 0], [0, 1, 0], [0, 0, 1]]"
      ]
     },
     "execution_count": 34,
     "metadata": {},
     "output_type": "execute_result"
    }
   ],
   "source": [
    "[ [ 1 if item_idx == row_idx else 0 for item_idx in range(0, 3) ] for row_idx in range(0, 3) ]"
   ]
  }
 ],
 "metadata": {
  "kernelspec": {
   "display_name": "Python 3",
   "language": "python",
   "name": "python3"
  },
  "language_info": {
   "codemirror_mode": {
    "name": "ipython",
    "version": 3
   },
   "file_extension": ".py",
   "mimetype": "text/x-python",
   "name": "python",
   "nbconvert_exporter": "python",
   "pygments_lexer": "ipython3",
   "version": "3.8.3"
  }
 },
 "nbformat": 4,
 "nbformat_minor": 2
}
